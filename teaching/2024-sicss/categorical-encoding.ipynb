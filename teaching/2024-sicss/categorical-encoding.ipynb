{
 "cells": [
  {
   "cell_type": "markdown",
   "id": "82840f76-4637-4db4-9629-f8b86e186218",
   "metadata": {},
   "source": [
    "## Encoding of categorical variables\n",
    "\n",
    "Source: https://esciencecenter-digital-skills.github.io/scikit-learn-mooc/python_scripts/03_categorical_pipeline.html"
   ]
  },
  {
   "cell_type": "code",
   "execution_count": 85,
   "id": "92b79bbd-2190-4dc8-8140-b8d82771d80a",
   "metadata": {},
   "outputs": [],
   "source": [
    "import pandas as pd"
   ]
  },
  {
   "cell_type": "code",
   "execution_count": 86,
   "id": "20aacd2b-8b1c-4c94-99ce-809a1757e523",
   "metadata": {},
   "outputs": [],
   "source": [
    "adult_census = pd.read_csv(\"../../datasets/adult-census.csv\")\n",
    "adult_census = adult_census.drop(columns=\"education-num\")\n",
    "\n",
    "target_name = \"class\"\n",
    "# we separate the predictors and the target\n",
    "target = adult_census[target_name]\n",
    "data = adult_census.drop(columns=[target_name])"
   ]
  },
  {
   "cell_type": "markdown",
   "id": "97b8a960-bf78-49d2-a72f-66a21d8771ac",
   "metadata": {},
   "source": [
    "Categorical variables are often strings -> harder to handle for a computer"
   ]
  },
  {
   "cell_type": "code",
   "execution_count": 87,
   "id": "62bd91a3-3258-4f27-903d-e977aa1e76af",
   "metadata": {},
   "outputs": [
    {
     "data": {
      "text/plain": [
       "native-country\n",
       "?                               857\n",
       "Cambodia                         28\n",
       "Canada                          182\n",
       "China                           122\n",
       "Columbia                         85\n",
       "Cuba                            138\n",
       "Dominican-Republic              103\n",
       "Ecuador                          45\n",
       "El-Salvador                     155\n",
       "England                         127\n",
       "France                           38\n",
       "Germany                         206\n",
       "Greece                           49\n",
       "Guatemala                        88\n",
       "Haiti                            75\n",
       "Holand-Netherlands                1\n",
       "Honduras                         20\n",
       "Hong                             30\n",
       "Hungary                          19\n",
       "India                           151\n",
       "Iran                             59\n",
       "Ireland                          37\n",
       "Italy                           105\n",
       "Jamaica                         106\n",
       "Japan                            92\n",
       "Laos                             23\n",
       "Mexico                          951\n",
       "Nicaragua                        49\n",
       "Outlying-US(Guam-USVI-etc)       23\n",
       "Peru                             46\n",
       "Philippines                     295\n",
       "Poland                           87\n",
       "Portugal                         67\n",
       "Puerto-Rico                     184\n",
       "Scotland                         21\n",
       "South                           115\n",
       "Taiwan                           65\n",
       "Thailand                         30\n",
       "Trinadad&Tobago                  27\n",
       "United-States                 43832\n",
       "Vietnam                          86\n",
       "Yugoslavia                       23\n",
       "Name: count, dtype: int64"
      ]
     },
     "execution_count": 87,
     "metadata": {},
     "output_type": "execute_result"
    }
   ],
   "source": [
    "data[\"native-country\"].value_counts().sort_index()"
   ]
  },
  {
   "cell_type": "code",
   "execution_count": 88,
   "id": "cf867446-4b6e-4df6-8c89-cfffb7c527f3",
   "metadata": {},
   "outputs": [
    {
     "data": {
      "text/plain": [
       "age                int64\n",
       "workclass         object\n",
       "education         object\n",
       "marital-status    object\n",
       "occupation        object\n",
       "relationship      object\n",
       "race              object\n",
       "sex               object\n",
       "capital-gain       int64\n",
       "capital-loss       int64\n",
       "hours-per-week     int64\n",
       "native-country    object\n",
       "dtype: object"
      ]
     },
     "execution_count": 88,
     "metadata": {},
     "output_type": "execute_result"
    }
   ],
   "source": [
    "data.dtypes"
   ]
  },
  {
   "cell_type": "markdown",
   "id": "7690df3d-2399-43aa-98d8-f68f9ed7cb66",
   "metadata": {},
   "source": [
    "### Selecting features based on their data type"
   ]
  },
  {
   "cell_type": "code",
   "execution_count": 89,
   "id": "72d5be63-72ca-42b9-8219-504a97207d5a",
   "metadata": {},
   "outputs": [
    {
     "data": {
      "text/plain": [
       "['workclass',\n",
       " 'education',\n",
       " 'marital-status',\n",
       " 'occupation',\n",
       " 'relationship',\n",
       " 'race',\n",
       " 'sex',\n",
       " 'native-country']"
      ]
     },
     "execution_count": 89,
     "metadata": {},
     "output_type": "execute_result"
    }
   ],
   "source": [
    "from sklearn.compose import make_column_selector as selector\n",
    "\n",
    "categorical_columns_selector = selector(dtype_include=object)\n",
    "categorical_columns = categorical_columns_selector(data)\n",
    "categorical_columns\n",
    "\n"
   ]
  },
  {
   "cell_type": "code",
   "execution_count": 90,
   "id": "9cef088e-3183-4569-9e47-294fb380f5a7",
   "metadata": {},
   "outputs": [
    {
     "data": {
      "text/html": [
       "<div>\n",
       "<style scoped>\n",
       "    .dataframe tbody tr th:only-of-type {\n",
       "        vertical-align: middle;\n",
       "    }\n",
       "\n",
       "    .dataframe tbody tr th {\n",
       "        vertical-align: top;\n",
       "    }\n",
       "\n",
       "    .dataframe thead th {\n",
       "        text-align: right;\n",
       "    }\n",
       "</style>\n",
       "<table border=\"1\" class=\"dataframe\">\n",
       "  <thead>\n",
       "    <tr style=\"text-align: right;\">\n",
       "      <th></th>\n",
       "      <th>workclass</th>\n",
       "      <th>education</th>\n",
       "      <th>marital-status</th>\n",
       "      <th>occupation</th>\n",
       "      <th>relationship</th>\n",
       "      <th>race</th>\n",
       "      <th>sex</th>\n",
       "      <th>native-country</th>\n",
       "    </tr>\n",
       "  </thead>\n",
       "  <tbody>\n",
       "    <tr>\n",
       "      <th>0</th>\n",
       "      <td>Private</td>\n",
       "      <td>11th</td>\n",
       "      <td>Never-married</td>\n",
       "      <td>Machine-op-inspct</td>\n",
       "      <td>Own-child</td>\n",
       "      <td>Black</td>\n",
       "      <td>Male</td>\n",
       "      <td>United-States</td>\n",
       "    </tr>\n",
       "    <tr>\n",
       "      <th>1</th>\n",
       "      <td>Private</td>\n",
       "      <td>HS-grad</td>\n",
       "      <td>Married-civ-spouse</td>\n",
       "      <td>Farming-fishing</td>\n",
       "      <td>Husband</td>\n",
       "      <td>White</td>\n",
       "      <td>Male</td>\n",
       "      <td>United-States</td>\n",
       "    </tr>\n",
       "    <tr>\n",
       "      <th>2</th>\n",
       "      <td>Local-gov</td>\n",
       "      <td>Assoc-acdm</td>\n",
       "      <td>Married-civ-spouse</td>\n",
       "      <td>Protective-serv</td>\n",
       "      <td>Husband</td>\n",
       "      <td>White</td>\n",
       "      <td>Male</td>\n",
       "      <td>United-States</td>\n",
       "    </tr>\n",
       "    <tr>\n",
       "      <th>3</th>\n",
       "      <td>Private</td>\n",
       "      <td>Some-college</td>\n",
       "      <td>Married-civ-spouse</td>\n",
       "      <td>Machine-op-inspct</td>\n",
       "      <td>Husband</td>\n",
       "      <td>Black</td>\n",
       "      <td>Male</td>\n",
       "      <td>United-States</td>\n",
       "    </tr>\n",
       "    <tr>\n",
       "      <th>4</th>\n",
       "      <td>?</td>\n",
       "      <td>Some-college</td>\n",
       "      <td>Never-married</td>\n",
       "      <td>?</td>\n",
       "      <td>Own-child</td>\n",
       "      <td>White</td>\n",
       "      <td>Female</td>\n",
       "      <td>United-States</td>\n",
       "    </tr>\n",
       "  </tbody>\n",
       "</table>\n",
       "</div>"
      ],
      "text/plain": [
       "    workclass      education       marital-status          occupation  \\\n",
       "0     Private           11th        Never-married   Machine-op-inspct   \n",
       "1     Private        HS-grad   Married-civ-spouse     Farming-fishing   \n",
       "2   Local-gov     Assoc-acdm   Married-civ-spouse     Protective-serv   \n",
       "3     Private   Some-college   Married-civ-spouse   Machine-op-inspct   \n",
       "4           ?   Some-college        Never-married                   ?   \n",
       "\n",
       "  relationship    race      sex  native-country  \n",
       "0    Own-child   Black     Male   United-States  \n",
       "1      Husband   White     Male   United-States  \n",
       "2      Husband   White     Male   United-States  \n",
       "3      Husband   Black     Male   United-States  \n",
       "4    Own-child   White   Female   United-States  "
      ]
     },
     "execution_count": 90,
     "metadata": {},
     "output_type": "execute_result"
    }
   ],
   "source": [
    "data_categorical = data[categorical_columns]\n",
    "data_categorical.head()"
   ]
  },
  {
   "cell_type": "code",
   "execution_count": 91,
   "id": "832b48af-8cc3-4e84-98a5-ec529c4b3712",
   "metadata": {},
   "outputs": [
    {
     "name": "stdout",
     "output_type": "stream",
     "text": [
      "The dataset contains 8 categorical features\n"
     ]
    }
   ],
   "source": [
    "print(f\"The dataset contains {data_categorical.shape[1]} categorical features\")"
   ]
  },
  {
   "cell_type": "markdown",
   "id": "270df7f9-c475-49e2-a8be-e44739963f2d",
   "metadata": {},
   "source": [
    "### Strategies to encode categorical variables"
   ]
  },
  {
   "cell_type": "markdown",
   "id": "7d579ad4-5dfc-4d41-a6f0-c9e3765cf71b",
   "metadata": {},
   "source": [
    "#### Encoding ordinal categories"
   ]
  },
  {
   "cell_type": "code",
   "execution_count": 92,
   "id": "b92ab062-05b7-4dab-8f2e-224c96358f50",
   "metadata": {},
   "outputs": [
    {
     "data": {
      "text/html": [
       "<div>\n",
       "<style scoped>\n",
       "    .dataframe tbody tr th:only-of-type {\n",
       "        vertical-align: middle;\n",
       "    }\n",
       "\n",
       "    .dataframe tbody tr th {\n",
       "        vertical-align: top;\n",
       "    }\n",
       "\n",
       "    .dataframe thead th {\n",
       "        text-align: right;\n",
       "    }\n",
       "</style>\n",
       "<table border=\"1\" class=\"dataframe\">\n",
       "  <thead>\n",
       "    <tr style=\"text-align: right;\">\n",
       "      <th></th>\n",
       "      <th>education</th>\n",
       "    </tr>\n",
       "  </thead>\n",
       "  <tbody>\n",
       "    <tr>\n",
       "      <th>0</th>\n",
       "      <td>1.0</td>\n",
       "    </tr>\n",
       "    <tr>\n",
       "      <th>1</th>\n",
       "      <td>11.0</td>\n",
       "    </tr>\n",
       "    <tr>\n",
       "      <th>2</th>\n",
       "      <td>7.0</td>\n",
       "    </tr>\n",
       "    <tr>\n",
       "      <th>3</th>\n",
       "      <td>15.0</td>\n",
       "    </tr>\n",
       "    <tr>\n",
       "      <th>4</th>\n",
       "      <td>15.0</td>\n",
       "    </tr>\n",
       "    <tr>\n",
       "      <th>...</th>\n",
       "      <td>...</td>\n",
       "    </tr>\n",
       "    <tr>\n",
       "      <th>48837</th>\n",
       "      <td>7.0</td>\n",
       "    </tr>\n",
       "    <tr>\n",
       "      <th>48838</th>\n",
       "      <td>11.0</td>\n",
       "    </tr>\n",
       "    <tr>\n",
       "      <th>48839</th>\n",
       "      <td>11.0</td>\n",
       "    </tr>\n",
       "    <tr>\n",
       "      <th>48840</th>\n",
       "      <td>11.0</td>\n",
       "    </tr>\n",
       "    <tr>\n",
       "      <th>48841</th>\n",
       "      <td>11.0</td>\n",
       "    </tr>\n",
       "  </tbody>\n",
       "</table>\n",
       "<p>48842 rows × 1 columns</p>\n",
       "</div>"
      ],
      "text/plain": [
       "       education\n",
       "0            1.0\n",
       "1           11.0\n",
       "2            7.0\n",
       "3           15.0\n",
       "4           15.0\n",
       "...          ...\n",
       "48837        7.0\n",
       "48838       11.0\n",
       "48839       11.0\n",
       "48840       11.0\n",
       "48841       11.0\n",
       "\n",
       "[48842 rows x 1 columns]"
      ]
     },
     "execution_count": 92,
     "metadata": {},
     "output_type": "execute_result"
    }
   ],
   "source": [
    "from sklearn.preprocessing import OrdinalEncoder\n",
    "education_column = data_categorical[[\"education\"]]\n",
    "\n",
    "encoder = OrdinalEncoder().set_output(transform=\"pandas\")\n",
    "education_encoded = encoder.fit_transform(education_column)\n",
    "education_encoded"
   ]
  },
  {
   "cell_type": "code",
   "execution_count": 93,
   "id": "50f054e5-cc05-4e13-af68-f79c7c7e7527",
   "metadata": {},
   "outputs": [
    {
     "data": {
      "text/plain": [
       "[array([' 10th', ' 11th', ' 12th', ' 1st-4th', ' 5th-6th', ' 7th-8th',\n",
       "        ' 9th', ' Assoc-acdm', ' Assoc-voc', ' Bachelors', ' Doctorate',\n",
       "        ' HS-grad', ' Masters', ' Preschool', ' Prof-school',\n",
       "        ' Some-college'], dtype=object)]"
      ]
     },
     "execution_count": 93,
     "metadata": {},
     "output_type": "execute_result"
    }
   ],
   "source": [
    "encoder.categories_"
   ]
  },
  {
   "cell_type": "code",
   "execution_count": 17,
   "id": "e0fcb0bb-6f35-4b40-b6fb-05bc8d666e58",
   "metadata": {},
   "outputs": [
    {
     "data": {
      "text/html": [
       "<div>\n",
       "<style scoped>\n",
       "    .dataframe tbody tr th:only-of-type {\n",
       "        vertical-align: middle;\n",
       "    }\n",
       "\n",
       "    .dataframe tbody tr th {\n",
       "        vertical-align: top;\n",
       "    }\n",
       "\n",
       "    .dataframe thead th {\n",
       "        text-align: right;\n",
       "    }\n",
       "</style>\n",
       "<table border=\"1\" class=\"dataframe\">\n",
       "  <thead>\n",
       "    <tr style=\"text-align: right;\">\n",
       "      <th></th>\n",
       "      <th>workclass</th>\n",
       "      <th>education</th>\n",
       "      <th>marital-status</th>\n",
       "      <th>occupation</th>\n",
       "      <th>relationship</th>\n",
       "      <th>race</th>\n",
       "      <th>sex</th>\n",
       "      <th>native-country</th>\n",
       "    </tr>\n",
       "  </thead>\n",
       "  <tbody>\n",
       "    <tr>\n",
       "      <th>0</th>\n",
       "      <td>4.0</td>\n",
       "      <td>1.0</td>\n",
       "      <td>4.0</td>\n",
       "      <td>7.0</td>\n",
       "      <td>3.0</td>\n",
       "      <td>2.0</td>\n",
       "      <td>1.0</td>\n",
       "      <td>39.0</td>\n",
       "    </tr>\n",
       "    <tr>\n",
       "      <th>1</th>\n",
       "      <td>4.0</td>\n",
       "      <td>11.0</td>\n",
       "      <td>2.0</td>\n",
       "      <td>5.0</td>\n",
       "      <td>0.0</td>\n",
       "      <td>4.0</td>\n",
       "      <td>1.0</td>\n",
       "      <td>39.0</td>\n",
       "    </tr>\n",
       "    <tr>\n",
       "      <th>2</th>\n",
       "      <td>2.0</td>\n",
       "      <td>7.0</td>\n",
       "      <td>2.0</td>\n",
       "      <td>11.0</td>\n",
       "      <td>0.0</td>\n",
       "      <td>4.0</td>\n",
       "      <td>1.0</td>\n",
       "      <td>39.0</td>\n",
       "    </tr>\n",
       "    <tr>\n",
       "      <th>3</th>\n",
       "      <td>4.0</td>\n",
       "      <td>15.0</td>\n",
       "      <td>2.0</td>\n",
       "      <td>7.0</td>\n",
       "      <td>0.0</td>\n",
       "      <td>2.0</td>\n",
       "      <td>1.0</td>\n",
       "      <td>39.0</td>\n",
       "    </tr>\n",
       "    <tr>\n",
       "      <th>4</th>\n",
       "      <td>0.0</td>\n",
       "      <td>15.0</td>\n",
       "      <td>4.0</td>\n",
       "      <td>0.0</td>\n",
       "      <td>3.0</td>\n",
       "      <td>4.0</td>\n",
       "      <td>0.0</td>\n",
       "      <td>39.0</td>\n",
       "    </tr>\n",
       "  </tbody>\n",
       "</table>\n",
       "</div>"
      ],
      "text/plain": [
       "   workclass  education  marital-status  occupation  relationship  race  sex  \\\n",
       "0        4.0        1.0             4.0         7.0           3.0   2.0  1.0   \n",
       "1        4.0       11.0             2.0         5.0           0.0   4.0  1.0   \n",
       "2        2.0        7.0             2.0        11.0           0.0   4.0  1.0   \n",
       "3        4.0       15.0             2.0         7.0           0.0   2.0  1.0   \n",
       "4        0.0       15.0             4.0         0.0           3.0   4.0  0.0   \n",
       "\n",
       "   native-country  \n",
       "0            39.0  \n",
       "1            39.0  \n",
       "2            39.0  \n",
       "3            39.0  \n",
       "4            39.0  "
      ]
     },
     "execution_count": 17,
     "metadata": {},
     "output_type": "execute_result"
    }
   ],
   "source": [
    "data_encoded = encoder.fit_transform(data_categorical)\n",
    "data_encoded[:5]"
   ]
  },
  {
   "cell_type": "code",
   "execution_count": 19,
   "id": "2f6cb630-6617-49a4-909d-5deef8fdf966",
   "metadata": {},
   "outputs": [
    {
     "data": {
      "text/plain": [
       "np.float64(0.0)"
      ]
     },
     "execution_count": 19,
     "metadata": {},
     "output_type": "execute_result"
    }
   ],
   "source": [
    "data_encoded[\"education\"].min()"
   ]
  },
  {
   "cell_type": "code",
   "execution_count": 18,
   "id": "024257a6-60ef-4da0-91ba-36480dc62ccd",
   "metadata": {},
   "outputs": [
    {
     "data": {
      "text/plain": [
       "[array([' ?', ' Federal-gov', ' Local-gov', ' Never-worked', ' Private',\n",
       "        ' Self-emp-inc', ' Self-emp-not-inc', ' State-gov', ' Without-pay'],\n",
       "       dtype=object),\n",
       " array([' 10th', ' 11th', ' 12th', ' 1st-4th', ' 5th-6th', ' 7th-8th',\n",
       "        ' 9th', ' Assoc-acdm', ' Assoc-voc', ' Bachelors', ' Doctorate',\n",
       "        ' HS-grad', ' Masters', ' Preschool', ' Prof-school',\n",
       "        ' Some-college'], dtype=object),\n",
       " array([' Divorced', ' Married-AF-spouse', ' Married-civ-spouse',\n",
       "        ' Married-spouse-absent', ' Never-married', ' Separated',\n",
       "        ' Widowed'], dtype=object),\n",
       " array([' ?', ' Adm-clerical', ' Armed-Forces', ' Craft-repair',\n",
       "        ' Exec-managerial', ' Farming-fishing', ' Handlers-cleaners',\n",
       "        ' Machine-op-inspct', ' Other-service', ' Priv-house-serv',\n",
       "        ' Prof-specialty', ' Protective-serv', ' Sales', ' Tech-support',\n",
       "        ' Transport-moving'], dtype=object),\n",
       " array([' Husband', ' Not-in-family', ' Other-relative', ' Own-child',\n",
       "        ' Unmarried', ' Wife'], dtype=object),\n",
       " array([' Amer-Indian-Eskimo', ' Asian-Pac-Islander', ' Black', ' Other',\n",
       "        ' White'], dtype=object),\n",
       " array([' Female', ' Male'], dtype=object),\n",
       " array([' ?', ' Cambodia', ' Canada', ' China', ' Columbia', ' Cuba',\n",
       "        ' Dominican-Republic', ' Ecuador', ' El-Salvador', ' England',\n",
       "        ' France', ' Germany', ' Greece', ' Guatemala', ' Haiti',\n",
       "        ' Holand-Netherlands', ' Honduras', ' Hong', ' Hungary', ' India',\n",
       "        ' Iran', ' Ireland', ' Italy', ' Jamaica', ' Japan', ' Laos',\n",
       "        ' Mexico', ' Nicaragua', ' Outlying-US(Guam-USVI-etc)', ' Peru',\n",
       "        ' Philippines', ' Poland', ' Portugal', ' Puerto-Rico',\n",
       "        ' Scotland', ' South', ' Taiwan', ' Thailand', ' Trinadad&Tobago',\n",
       "        ' United-States', ' Vietnam', ' Yugoslavia'], dtype=object)]"
      ]
     },
     "execution_count": 18,
     "metadata": {},
     "output_type": "execute_result"
    }
   ],
   "source": [
    "encoder.categories_"
   ]
  },
  {
   "cell_type": "markdown",
   "id": "1a3de5a7-fad5-43b3-909f-5882872d4316",
   "metadata": {},
   "source": [
    "Note\n",
    "- number of features is unchanged\n",
    "- each feature has been encoded separetely (numbers re-start at 0 each time)\n",
    "- careful, 1: it uses a lexigraphical strategy -> see how \"10th\" comes before \"9th\"\n",
    "- careful, 2: assumes values are ordered -> but this can lead you astray.\n",
    "   - example: cloth sizes: `S, M, L, XL` would be encoded `2,1,0,3`\n",
    "   - we can pass a `categories` argument to tell the encoded the expected ordering\n",
    "   - but even then, in many cases it's not clear if all categories are \"equally far apart\", ie 1,2,3,4, or if it should be something else!\n",
    "- ignoring this can worsen the statistical models because the ordering has not meaning, and the model picks up noise. In such cases, one-hot encoding might be better"
   ]
  },
  {
   "cell_type": "markdown",
   "id": "28740101-ebe9-410b-b9a7-c9db88d673e0",
   "metadata": {},
   "source": [
    "#### Encoding nominal categories -- assuming no order"
   ]
  },
  {
   "cell_type": "code",
   "execution_count": 24,
   "id": "ecf3c758-aad0-4cbc-972b-2a7a1816d98b",
   "metadata": {},
   "outputs": [
    {
     "data": {
      "text/html": [
       "<div>\n",
       "<style scoped>\n",
       "    .dataframe tbody tr th:only-of-type {\n",
       "        vertical-align: middle;\n",
       "    }\n",
       "\n",
       "    .dataframe tbody tr th {\n",
       "        vertical-align: top;\n",
       "    }\n",
       "\n",
       "    .dataframe thead th {\n",
       "        text-align: right;\n",
       "    }\n",
       "</style>\n",
       "<table border=\"1\" class=\"dataframe\">\n",
       "  <thead>\n",
       "    <tr style=\"text-align: right;\">\n",
       "      <th></th>\n",
       "      <th>education_ 10th</th>\n",
       "      <th>education_ 11th</th>\n",
       "      <th>education_ 12th</th>\n",
       "      <th>education_ 1st-4th</th>\n",
       "      <th>education_ 5th-6th</th>\n",
       "      <th>education_ 7th-8th</th>\n",
       "      <th>education_ 9th</th>\n",
       "      <th>education_ Assoc-acdm</th>\n",
       "      <th>education_ Assoc-voc</th>\n",
       "      <th>education_ Bachelors</th>\n",
       "      <th>education_ Doctorate</th>\n",
       "      <th>education_ HS-grad</th>\n",
       "      <th>education_ Masters</th>\n",
       "      <th>education_ Preschool</th>\n",
       "      <th>education_ Prof-school</th>\n",
       "      <th>education_ Some-college</th>\n",
       "    </tr>\n",
       "  </thead>\n",
       "  <tbody>\n",
       "    <tr>\n",
       "      <th>0</th>\n",
       "      <td>0.0</td>\n",
       "      <td>1.0</td>\n",
       "      <td>0.0</td>\n",
       "      <td>0.0</td>\n",
       "      <td>0.0</td>\n",
       "      <td>0.0</td>\n",
       "      <td>0.0</td>\n",
       "      <td>0.0</td>\n",
       "      <td>0.0</td>\n",
       "      <td>0.0</td>\n",
       "      <td>0.0</td>\n",
       "      <td>0.0</td>\n",
       "      <td>0.0</td>\n",
       "      <td>0.0</td>\n",
       "      <td>0.0</td>\n",
       "      <td>0.0</td>\n",
       "    </tr>\n",
       "    <tr>\n",
       "      <th>1</th>\n",
       "      <td>0.0</td>\n",
       "      <td>0.0</td>\n",
       "      <td>0.0</td>\n",
       "      <td>0.0</td>\n",
       "      <td>0.0</td>\n",
       "      <td>0.0</td>\n",
       "      <td>0.0</td>\n",
       "      <td>0.0</td>\n",
       "      <td>0.0</td>\n",
       "      <td>0.0</td>\n",
       "      <td>0.0</td>\n",
       "      <td>1.0</td>\n",
       "      <td>0.0</td>\n",
       "      <td>0.0</td>\n",
       "      <td>0.0</td>\n",
       "      <td>0.0</td>\n",
       "    </tr>\n",
       "    <tr>\n",
       "      <th>2</th>\n",
       "      <td>0.0</td>\n",
       "      <td>0.0</td>\n",
       "      <td>0.0</td>\n",
       "      <td>0.0</td>\n",
       "      <td>0.0</td>\n",
       "      <td>0.0</td>\n",
       "      <td>0.0</td>\n",
       "      <td>1.0</td>\n",
       "      <td>0.0</td>\n",
       "      <td>0.0</td>\n",
       "      <td>0.0</td>\n",
       "      <td>0.0</td>\n",
       "      <td>0.0</td>\n",
       "      <td>0.0</td>\n",
       "      <td>0.0</td>\n",
       "      <td>0.0</td>\n",
       "    </tr>\n",
       "    <tr>\n",
       "      <th>3</th>\n",
       "      <td>0.0</td>\n",
       "      <td>0.0</td>\n",
       "      <td>0.0</td>\n",
       "      <td>0.0</td>\n",
       "      <td>0.0</td>\n",
       "      <td>0.0</td>\n",
       "      <td>0.0</td>\n",
       "      <td>0.0</td>\n",
       "      <td>0.0</td>\n",
       "      <td>0.0</td>\n",
       "      <td>0.0</td>\n",
       "      <td>0.0</td>\n",
       "      <td>0.0</td>\n",
       "      <td>0.0</td>\n",
       "      <td>0.0</td>\n",
       "      <td>1.0</td>\n",
       "    </tr>\n",
       "    <tr>\n",
       "      <th>4</th>\n",
       "      <td>0.0</td>\n",
       "      <td>0.0</td>\n",
       "      <td>0.0</td>\n",
       "      <td>0.0</td>\n",
       "      <td>0.0</td>\n",
       "      <td>0.0</td>\n",
       "      <td>0.0</td>\n",
       "      <td>0.0</td>\n",
       "      <td>0.0</td>\n",
       "      <td>0.0</td>\n",
       "      <td>0.0</td>\n",
       "      <td>0.0</td>\n",
       "      <td>0.0</td>\n",
       "      <td>0.0</td>\n",
       "      <td>0.0</td>\n",
       "      <td>1.0</td>\n",
       "    </tr>\n",
       "    <tr>\n",
       "      <th>...</th>\n",
       "      <td>...</td>\n",
       "      <td>...</td>\n",
       "      <td>...</td>\n",
       "      <td>...</td>\n",
       "      <td>...</td>\n",
       "      <td>...</td>\n",
       "      <td>...</td>\n",
       "      <td>...</td>\n",
       "      <td>...</td>\n",
       "      <td>...</td>\n",
       "      <td>...</td>\n",
       "      <td>...</td>\n",
       "      <td>...</td>\n",
       "      <td>...</td>\n",
       "      <td>...</td>\n",
       "      <td>...</td>\n",
       "    </tr>\n",
       "    <tr>\n",
       "      <th>48837</th>\n",
       "      <td>0.0</td>\n",
       "      <td>0.0</td>\n",
       "      <td>0.0</td>\n",
       "      <td>0.0</td>\n",
       "      <td>0.0</td>\n",
       "      <td>0.0</td>\n",
       "      <td>0.0</td>\n",
       "      <td>1.0</td>\n",
       "      <td>0.0</td>\n",
       "      <td>0.0</td>\n",
       "      <td>0.0</td>\n",
       "      <td>0.0</td>\n",
       "      <td>0.0</td>\n",
       "      <td>0.0</td>\n",
       "      <td>0.0</td>\n",
       "      <td>0.0</td>\n",
       "    </tr>\n",
       "    <tr>\n",
       "      <th>48838</th>\n",
       "      <td>0.0</td>\n",
       "      <td>0.0</td>\n",
       "      <td>0.0</td>\n",
       "      <td>0.0</td>\n",
       "      <td>0.0</td>\n",
       "      <td>0.0</td>\n",
       "      <td>0.0</td>\n",
       "      <td>0.0</td>\n",
       "      <td>0.0</td>\n",
       "      <td>0.0</td>\n",
       "      <td>0.0</td>\n",
       "      <td>1.0</td>\n",
       "      <td>0.0</td>\n",
       "      <td>0.0</td>\n",
       "      <td>0.0</td>\n",
       "      <td>0.0</td>\n",
       "    </tr>\n",
       "    <tr>\n",
       "      <th>48839</th>\n",
       "      <td>0.0</td>\n",
       "      <td>0.0</td>\n",
       "      <td>0.0</td>\n",
       "      <td>0.0</td>\n",
       "      <td>0.0</td>\n",
       "      <td>0.0</td>\n",
       "      <td>0.0</td>\n",
       "      <td>0.0</td>\n",
       "      <td>0.0</td>\n",
       "      <td>0.0</td>\n",
       "      <td>0.0</td>\n",
       "      <td>1.0</td>\n",
       "      <td>0.0</td>\n",
       "      <td>0.0</td>\n",
       "      <td>0.0</td>\n",
       "      <td>0.0</td>\n",
       "    </tr>\n",
       "    <tr>\n",
       "      <th>48840</th>\n",
       "      <td>0.0</td>\n",
       "      <td>0.0</td>\n",
       "      <td>0.0</td>\n",
       "      <td>0.0</td>\n",
       "      <td>0.0</td>\n",
       "      <td>0.0</td>\n",
       "      <td>0.0</td>\n",
       "      <td>0.0</td>\n",
       "      <td>0.0</td>\n",
       "      <td>0.0</td>\n",
       "      <td>0.0</td>\n",
       "      <td>1.0</td>\n",
       "      <td>0.0</td>\n",
       "      <td>0.0</td>\n",
       "      <td>0.0</td>\n",
       "      <td>0.0</td>\n",
       "    </tr>\n",
       "    <tr>\n",
       "      <th>48841</th>\n",
       "      <td>0.0</td>\n",
       "      <td>0.0</td>\n",
       "      <td>0.0</td>\n",
       "      <td>0.0</td>\n",
       "      <td>0.0</td>\n",
       "      <td>0.0</td>\n",
       "      <td>0.0</td>\n",
       "      <td>0.0</td>\n",
       "      <td>0.0</td>\n",
       "      <td>0.0</td>\n",
       "      <td>0.0</td>\n",
       "      <td>1.0</td>\n",
       "      <td>0.0</td>\n",
       "      <td>0.0</td>\n",
       "      <td>0.0</td>\n",
       "      <td>0.0</td>\n",
       "    </tr>\n",
       "  </tbody>\n",
       "</table>\n",
       "<p>48842 rows × 16 columns</p>\n",
       "</div>"
      ],
      "text/plain": [
       "       education_ 10th  education_ 11th  education_ 12th  education_ 1st-4th  \\\n",
       "0                  0.0              1.0              0.0                 0.0   \n",
       "1                  0.0              0.0              0.0                 0.0   \n",
       "2                  0.0              0.0              0.0                 0.0   \n",
       "3                  0.0              0.0              0.0                 0.0   \n",
       "4                  0.0              0.0              0.0                 0.0   \n",
       "...                ...              ...              ...                 ...   \n",
       "48837              0.0              0.0              0.0                 0.0   \n",
       "48838              0.0              0.0              0.0                 0.0   \n",
       "48839              0.0              0.0              0.0                 0.0   \n",
       "48840              0.0              0.0              0.0                 0.0   \n",
       "48841              0.0              0.0              0.0                 0.0   \n",
       "\n",
       "       education_ 5th-6th  education_ 7th-8th  education_ 9th  \\\n",
       "0                     0.0                 0.0             0.0   \n",
       "1                     0.0                 0.0             0.0   \n",
       "2                     0.0                 0.0             0.0   \n",
       "3                     0.0                 0.0             0.0   \n",
       "4                     0.0                 0.0             0.0   \n",
       "...                   ...                 ...             ...   \n",
       "48837                 0.0                 0.0             0.0   \n",
       "48838                 0.0                 0.0             0.0   \n",
       "48839                 0.0                 0.0             0.0   \n",
       "48840                 0.0                 0.0             0.0   \n",
       "48841                 0.0                 0.0             0.0   \n",
       "\n",
       "       education_ Assoc-acdm  education_ Assoc-voc  education_ Bachelors  \\\n",
       "0                        0.0                   0.0                   0.0   \n",
       "1                        0.0                   0.0                   0.0   \n",
       "2                        1.0                   0.0                   0.0   \n",
       "3                        0.0                   0.0                   0.0   \n",
       "4                        0.0                   0.0                   0.0   \n",
       "...                      ...                   ...                   ...   \n",
       "48837                    1.0                   0.0                   0.0   \n",
       "48838                    0.0                   0.0                   0.0   \n",
       "48839                    0.0                   0.0                   0.0   \n",
       "48840                    0.0                   0.0                   0.0   \n",
       "48841                    0.0                   0.0                   0.0   \n",
       "\n",
       "       education_ Doctorate  education_ HS-grad  education_ Masters  \\\n",
       "0                       0.0                 0.0                 0.0   \n",
       "1                       0.0                 1.0                 0.0   \n",
       "2                       0.0                 0.0                 0.0   \n",
       "3                       0.0                 0.0                 0.0   \n",
       "4                       0.0                 0.0                 0.0   \n",
       "...                     ...                 ...                 ...   \n",
       "48837                   0.0                 0.0                 0.0   \n",
       "48838                   0.0                 1.0                 0.0   \n",
       "48839                   0.0                 1.0                 0.0   \n",
       "48840                   0.0                 1.0                 0.0   \n",
       "48841                   0.0                 1.0                 0.0   \n",
       "\n",
       "       education_ Preschool  education_ Prof-school  education_ Some-college  \n",
       "0                       0.0                     0.0                      0.0  \n",
       "1                       0.0                     0.0                      0.0  \n",
       "2                       0.0                     0.0                      0.0  \n",
       "3                       0.0                     0.0                      1.0  \n",
       "4                       0.0                     0.0                      1.0  \n",
       "...                     ...                     ...                      ...  \n",
       "48837                   0.0                     0.0                      0.0  \n",
       "48838                   0.0                     0.0                      0.0  \n",
       "48839                   0.0                     0.0                      0.0  \n",
       "48840                   0.0                     0.0                      0.0  \n",
       "48841                   0.0                     0.0                      0.0  \n",
       "\n",
       "[48842 rows x 16 columns]"
      ]
     },
     "execution_count": 24,
     "metadata": {},
     "output_type": "execute_result"
    }
   ],
   "source": [
    "from sklearn.preprocessing import OneHotEncoder\n",
    "\n",
    "encoder = OneHotEncoder(sparse_output=False).set_output(transform=\"pandas\")\n",
    "# encoder = OneHotEncoder(sparse_output=False).set_output(transform=\"pandas\")\n",
    "education_encoded = encoder.fit_transform(education_column)\n",
    "education_encoded"
   ]
  },
  {
   "cell_type": "code",
   "execution_count": 25,
   "id": "a693951c-e466-4bff-8d95-e59f135acfbe",
   "metadata": {},
   "outputs": [
    {
     "name": "stdout",
     "output_type": "stream",
     "text": [
      "The dataset has 8 numerical features\n"
     ]
    }
   ],
   "source": [
    "print(f\"The dataset has {data_categorical.shape[1]} numerical features\")"
   ]
  },
  {
   "cell_type": "code",
   "execution_count": 26,
   "id": "5e1de6fd-a132-4484-87b4-37622e578473",
   "metadata": {},
   "outputs": [],
   "source": [
    "data_encoded = encoder.fit_transform(data_categorical)"
   ]
  },
  {
   "cell_type": "code",
   "execution_count": 27,
   "id": "1c2b5685-8d59-4fe1-a509-2fdfde5de687",
   "metadata": {},
   "outputs": [
    {
     "data": {
      "text/html": [
       "<div>\n",
       "<style scoped>\n",
       "    .dataframe tbody tr th:only-of-type {\n",
       "        vertical-align: middle;\n",
       "    }\n",
       "\n",
       "    .dataframe tbody tr th {\n",
       "        vertical-align: top;\n",
       "    }\n",
       "\n",
       "    .dataframe thead th {\n",
       "        text-align: right;\n",
       "    }\n",
       "</style>\n",
       "<table border=\"1\" class=\"dataframe\">\n",
       "  <thead>\n",
       "    <tr style=\"text-align: right;\">\n",
       "      <th></th>\n",
       "      <th>workclass_ ?</th>\n",
       "      <th>workclass_ Federal-gov</th>\n",
       "      <th>workclass_ Local-gov</th>\n",
       "      <th>workclass_ Never-worked</th>\n",
       "      <th>workclass_ Private</th>\n",
       "      <th>workclass_ Self-emp-inc</th>\n",
       "      <th>workclass_ Self-emp-not-inc</th>\n",
       "      <th>workclass_ State-gov</th>\n",
       "      <th>workclass_ Without-pay</th>\n",
       "      <th>education_ 10th</th>\n",
       "      <th>...</th>\n",
       "      <th>native-country_ Portugal</th>\n",
       "      <th>native-country_ Puerto-Rico</th>\n",
       "      <th>native-country_ Scotland</th>\n",
       "      <th>native-country_ South</th>\n",
       "      <th>native-country_ Taiwan</th>\n",
       "      <th>native-country_ Thailand</th>\n",
       "      <th>native-country_ Trinadad&amp;Tobago</th>\n",
       "      <th>native-country_ United-States</th>\n",
       "      <th>native-country_ Vietnam</th>\n",
       "      <th>native-country_ Yugoslavia</th>\n",
       "    </tr>\n",
       "  </thead>\n",
       "  <tbody>\n",
       "    <tr>\n",
       "      <th>0</th>\n",
       "      <td>0.0</td>\n",
       "      <td>0.0</td>\n",
       "      <td>0.0</td>\n",
       "      <td>0.0</td>\n",
       "      <td>1.0</td>\n",
       "      <td>0.0</td>\n",
       "      <td>0.0</td>\n",
       "      <td>0.0</td>\n",
       "      <td>0.0</td>\n",
       "      <td>0.0</td>\n",
       "      <td>...</td>\n",
       "      <td>0.0</td>\n",
       "      <td>0.0</td>\n",
       "      <td>0.0</td>\n",
       "      <td>0.0</td>\n",
       "      <td>0.0</td>\n",
       "      <td>0.0</td>\n",
       "      <td>0.0</td>\n",
       "      <td>1.0</td>\n",
       "      <td>0.0</td>\n",
       "      <td>0.0</td>\n",
       "    </tr>\n",
       "    <tr>\n",
       "      <th>1</th>\n",
       "      <td>0.0</td>\n",
       "      <td>0.0</td>\n",
       "      <td>0.0</td>\n",
       "      <td>0.0</td>\n",
       "      <td>1.0</td>\n",
       "      <td>0.0</td>\n",
       "      <td>0.0</td>\n",
       "      <td>0.0</td>\n",
       "      <td>0.0</td>\n",
       "      <td>0.0</td>\n",
       "      <td>...</td>\n",
       "      <td>0.0</td>\n",
       "      <td>0.0</td>\n",
       "      <td>0.0</td>\n",
       "      <td>0.0</td>\n",
       "      <td>0.0</td>\n",
       "      <td>0.0</td>\n",
       "      <td>0.0</td>\n",
       "      <td>1.0</td>\n",
       "      <td>0.0</td>\n",
       "      <td>0.0</td>\n",
       "    </tr>\n",
       "    <tr>\n",
       "      <th>2</th>\n",
       "      <td>0.0</td>\n",
       "      <td>0.0</td>\n",
       "      <td>1.0</td>\n",
       "      <td>0.0</td>\n",
       "      <td>0.0</td>\n",
       "      <td>0.0</td>\n",
       "      <td>0.0</td>\n",
       "      <td>0.0</td>\n",
       "      <td>0.0</td>\n",
       "      <td>0.0</td>\n",
       "      <td>...</td>\n",
       "      <td>0.0</td>\n",
       "      <td>0.0</td>\n",
       "      <td>0.0</td>\n",
       "      <td>0.0</td>\n",
       "      <td>0.0</td>\n",
       "      <td>0.0</td>\n",
       "      <td>0.0</td>\n",
       "      <td>1.0</td>\n",
       "      <td>0.0</td>\n",
       "      <td>0.0</td>\n",
       "    </tr>\n",
       "    <tr>\n",
       "      <th>3</th>\n",
       "      <td>0.0</td>\n",
       "      <td>0.0</td>\n",
       "      <td>0.0</td>\n",
       "      <td>0.0</td>\n",
       "      <td>1.0</td>\n",
       "      <td>0.0</td>\n",
       "      <td>0.0</td>\n",
       "      <td>0.0</td>\n",
       "      <td>0.0</td>\n",
       "      <td>0.0</td>\n",
       "      <td>...</td>\n",
       "      <td>0.0</td>\n",
       "      <td>0.0</td>\n",
       "      <td>0.0</td>\n",
       "      <td>0.0</td>\n",
       "      <td>0.0</td>\n",
       "      <td>0.0</td>\n",
       "      <td>0.0</td>\n",
       "      <td>1.0</td>\n",
       "      <td>0.0</td>\n",
       "      <td>0.0</td>\n",
       "    </tr>\n",
       "    <tr>\n",
       "      <th>4</th>\n",
       "      <td>1.0</td>\n",
       "      <td>0.0</td>\n",
       "      <td>0.0</td>\n",
       "      <td>0.0</td>\n",
       "      <td>0.0</td>\n",
       "      <td>0.0</td>\n",
       "      <td>0.0</td>\n",
       "      <td>0.0</td>\n",
       "      <td>0.0</td>\n",
       "      <td>0.0</td>\n",
       "      <td>...</td>\n",
       "      <td>0.0</td>\n",
       "      <td>0.0</td>\n",
       "      <td>0.0</td>\n",
       "      <td>0.0</td>\n",
       "      <td>0.0</td>\n",
       "      <td>0.0</td>\n",
       "      <td>0.0</td>\n",
       "      <td>1.0</td>\n",
       "      <td>0.0</td>\n",
       "      <td>0.0</td>\n",
       "    </tr>\n",
       "  </tbody>\n",
       "</table>\n",
       "<p>5 rows × 102 columns</p>\n",
       "</div>"
      ],
      "text/plain": [
       "   workclass_ ?  workclass_ Federal-gov  workclass_ Local-gov  \\\n",
       "0           0.0                     0.0                   0.0   \n",
       "1           0.0                     0.0                   0.0   \n",
       "2           0.0                     0.0                   1.0   \n",
       "3           0.0                     0.0                   0.0   \n",
       "4           1.0                     0.0                   0.0   \n",
       "\n",
       "   workclass_ Never-worked  workclass_ Private  workclass_ Self-emp-inc  \\\n",
       "0                      0.0                 1.0                      0.0   \n",
       "1                      0.0                 1.0                      0.0   \n",
       "2                      0.0                 0.0                      0.0   \n",
       "3                      0.0                 1.0                      0.0   \n",
       "4                      0.0                 0.0                      0.0   \n",
       "\n",
       "   workclass_ Self-emp-not-inc  workclass_ State-gov  workclass_ Without-pay  \\\n",
       "0                          0.0                   0.0                     0.0   \n",
       "1                          0.0                   0.0                     0.0   \n",
       "2                          0.0                   0.0                     0.0   \n",
       "3                          0.0                   0.0                     0.0   \n",
       "4                          0.0                   0.0                     0.0   \n",
       "\n",
       "   education_ 10th  ...  native-country_ Portugal  \\\n",
       "0              0.0  ...                       0.0   \n",
       "1              0.0  ...                       0.0   \n",
       "2              0.0  ...                       0.0   \n",
       "3              0.0  ...                       0.0   \n",
       "4              0.0  ...                       0.0   \n",
       "\n",
       "   native-country_ Puerto-Rico  native-country_ Scotland  \\\n",
       "0                          0.0                       0.0   \n",
       "1                          0.0                       0.0   \n",
       "2                          0.0                       0.0   \n",
       "3                          0.0                       0.0   \n",
       "4                          0.0                       0.0   \n",
       "\n",
       "   native-country_ South  native-country_ Taiwan  native-country_ Thailand  \\\n",
       "0                    0.0                     0.0                       0.0   \n",
       "1                    0.0                     0.0                       0.0   \n",
       "2                    0.0                     0.0                       0.0   \n",
       "3                    0.0                     0.0                       0.0   \n",
       "4                    0.0                     0.0                       0.0   \n",
       "\n",
       "   native-country_ Trinadad&Tobago  native-country_ United-States  \\\n",
       "0                              0.0                            1.0   \n",
       "1                              0.0                            1.0   \n",
       "2                              0.0                            1.0   \n",
       "3                              0.0                            1.0   \n",
       "4                              0.0                            1.0   \n",
       "\n",
       "   native-country_ Vietnam  native-country_ Yugoslavia  \n",
       "0                      0.0                         0.0  \n",
       "1                      0.0                         0.0  \n",
       "2                      0.0                         0.0  \n",
       "3                      0.0                         0.0  \n",
       "4                      0.0                         0.0  \n",
       "\n",
       "[5 rows x 102 columns]"
      ]
     },
     "execution_count": 27,
     "metadata": {},
     "output_type": "execute_result"
    }
   ],
   "source": [
    "data_encoded[:5]"
   ]
  },
  {
   "cell_type": "code",
   "execution_count": 28,
   "id": "67eba02e-04ca-40e5-8d4f-c2fbd3ef835b",
   "metadata": {},
   "outputs": [
    {
     "name": "stdout",
     "output_type": "stream",
     "text": [
      "The encoded dataset contains 102 features\n"
     ]
    }
   ],
   "source": [
    "print(f\"The encoded dataset contains {data_encoded.shape[1]} features\")"
   ]
  },
  {
   "cell_type": "markdown",
   "id": "228996f3-8b7e-4577-8e5d-1ecb65e86253",
   "metadata": {},
   "source": [
    "Observations\n",
    "- `OrdinalEncoder` outputs ordinal categories -> better for tree-based models, unless categories are truly ordered\n",
    "- `OneHotEncoder` creates many features, which is not computationally efficient for tree-based models."
   ]
  },
  {
   "cell_type": "markdown",
   "id": "889d5d47-86d1-4acb-a1e9-5a89f2309def",
   "metadata": {},
   "source": [
    "### Evaluate our predictive pipeline"
   ]
  },
  {
   "cell_type": "code",
   "execution_count": 30,
   "id": "815f9079-a198-4ad0-90e1-499ade832390",
   "metadata": {},
   "outputs": [
    {
     "data": {
      "text/plain": [
       "native-country\n",
       "United-States                 43832\n",
       "Mexico                          951\n",
       "?                               857\n",
       "Philippines                     295\n",
       "Germany                         206\n",
       "Puerto-Rico                     184\n",
       "Canada                          182\n",
       "El-Salvador                     155\n",
       "India                           151\n",
       "Cuba                            138\n",
       "England                         127\n",
       "China                           122\n",
       "South                           115\n",
       "Jamaica                         106\n",
       "Italy                           105\n",
       "Dominican-Republic              103\n",
       "Japan                            92\n",
       "Guatemala                        88\n",
       "Poland                           87\n",
       "Vietnam                          86\n",
       "Columbia                         85\n",
       "Haiti                            75\n",
       "Portugal                         67\n",
       "Taiwan                           65\n",
       "Iran                             59\n",
       "Nicaragua                        49\n",
       "Greece                           49\n",
       "Peru                             46\n",
       "Ecuador                          45\n",
       "France                           38\n",
       "Ireland                          37\n",
       "Thailand                         30\n",
       "Hong                             30\n",
       "Cambodia                         28\n",
       "Trinadad&Tobago                  27\n",
       "Laos                             23\n",
       "Outlying-US(Guam-USVI-etc)       23\n",
       "Yugoslavia                       23\n",
       "Scotland                         21\n",
       "Honduras                         20\n",
       "Hungary                          19\n",
       "Holand-Netherlands                1\n",
       "Name: count, dtype: int64"
      ]
     },
     "execution_count": 30,
     "metadata": {},
     "output_type": "execute_result"
    }
   ],
   "source": [
    "data[\"native-country\"].value_counts()"
   ]
  },
  {
   "cell_type": "markdown",
   "id": "fe70b9a2-db1e-4e7c-b9fb-37c65237032e",
   "metadata": {},
   "source": [
    "Encoder will fail if the sample is in the test set but not in the train set (because the encoder learns on the train set).\n",
    "\n",
    "Options to deal with small categories\n",
    "- use kwarg `categories` in the `fit` method to define all categories\n",
    "- `handle_unkown`=\"ignore\" -> all one-hot encoded columns for this record will be 0\n",
    "- adjust `min_frequency` -> collapse rarest categories into one single feature.\n",
    "\n",
    "**We will only use the second option in the live coding**"
   ]
  },
  {
   "cell_type": "code",
   "execution_count": 35,
   "id": "489c0248-732f-4af9-adbe-f459baf026e1",
   "metadata": {},
   "outputs": [],
   "source": [
    "from sklearn.pipeline import make_pipeline\n",
    "from sklearn.linear_model import LogisticRegression\n",
    "\n",
    "model = make_pipeline(\n",
    "    OneHotEncoder(handle_unknown=\"ignore\"),\n",
    "    LogisticRegression()\n",
    ")\n"
   ]
  },
  {
   "cell_type": "code",
   "execution_count": 36,
   "id": "ba953d0e-63a4-4b85-b994-d03e5bb238d4",
   "metadata": {},
   "outputs": [
    {
     "data": {
      "text/plain": [
       "{'fit_time': array([0.11611509, 0.10852027, 0.11318803, 0.11639667, 0.10774374]),\n",
       " 'score_time': array([0.01334739, 0.01330996, 0.01342773, 0.01409006, 0.01301193]),\n",
       " 'test_score': array([0.83232675, 0.83570478, 0.82831695, 0.83292383, 0.83497133])}"
      ]
     },
     "execution_count": 36,
     "metadata": {},
     "output_type": "execute_result"
    }
   ],
   "source": [
    "from sklearn.model_selection import cross_validate \n",
    "cv_results = cross_validate(model, data_categorical, target)\n",
    "cv_results"
   ]
  },
  {
   "cell_type": "code",
   "execution_count": 38,
   "id": "10398ce1-62dd-44d9-aafe-ec27681cd403",
   "metadata": {},
   "outputs": [
    {
     "name": "stdout",
     "output_type": "stream",
     "text": [
      "The accuracy is: 0.833 +- 0.003\n"
     ]
    }
   ],
   "source": [
    "scores = cv_results[\"test_score\"]\n",
    "print(f\"The accuracy is: {scores.mean():.3f} +- {scores.std():.3f}\")"
   ]
  },
  {
   "cell_type": "markdown",
   "id": "04be10bc-477e-4230-a242-fc7db4b35bf8",
   "metadata": {},
   "source": []
  },
  {
   "cell_type": "markdown",
   "id": "6599ff82-7045-4371-af22-8abc1316dd9e",
   "metadata": {},
   "source": [
    "#### Exercise: The impact of using integer encoding for with logistic regression (groups of 2, 15min) [Flavio]\n",
    "\n",
    "\n",
    "Goal: understand the impact of arbitrary integer encoding for categorical variables with linear classification such as logistic regression.\n",
    "\n",
    "We keep using the `adult_census` data set already loaded in the code before. Recall that `target` contains the variable we want to predict and `data` contains the features.\n",
    "\n",
    "If you need to re-load the data, you can do it as follows:\n",
    "\n",
    "```python\n",
    "import pandas as pd\n",
    "\n",
    "\n",
    "adult_census = pd.read_csv(\"../datasets/adult-census.csv\")\n",
    "target_name = \"class\"\n",
    "target = adult_census[target_name]\n",
    "data = adult_census.drop(columns=[target_name, \"education-num\"])\n",
    "```"
   ]
  },
  {
   "cell_type": "markdown",
   "id": "76ef4ca9-301b-4739-a623-d3aec4a09afd",
   "metadata": {},
   "source": [
    "\n",
    "**Q0 Select columns containing strings**\n",
    "\n",
    "Use `sklearn.compose.make_column_selector` to automatically select columns containing strings that correspond to categorical features in our dataset.\n",
    "\n",
    "**Q1 Build a scikit-learn pipeline composed of an `OrdinalEncoder` and a `LogisticRegression` classifier**\n",
    "\n",
    "You'll need the following, already loaded modules:\n",
    "\n",
    "```python\n",
    "from sklearn.pipeline import make_pipeline\n",
    "from sklearn.preprocessing import OrdinalEncoder\n",
    "from sklearn.linear_model import LogisticRegression\n",
    "```\n",
    "\n",
    "Because OrdinalEncoder can raise errors if it sees an unknown category at prediction time, you can set the handle_unknown=\"use_encoded_value\" and unknown_value parameters. You can refer to the [scikit-learn documentation](https://scikit-learn.org/stable/modules/generated/sklearn.preprocessing.OrdinalEncoder.html) for more details regarding these parameters.\n",
    "\n",
    "\n",
    "**Q2 Evaluate the model with cross-validation.**\n",
    "\n",
    "You'll need the following, already loaded modules:\n",
    "\n",
    "```python\n",
    "from sklearn.model_selection import cross_validate\n",
    "\n",
    "```\n",
    "\n",
    "**Q3 Repeat the previous steps using an `OneHotEncoder` instead of an `OrdinalEncoder`**\n",
    "\n",
    "You'll need the following, already loaded modules:\n",
    "\n",
    "```python\n",
    "from sklearn.preprocessing import OneHotEncoder\n",
    "\n",
    "```"
   ]
  },
  {
   "cell_type": "markdown",
   "id": "09e8fa9d-2446-4a2c-ab66-8e79778d8448",
   "metadata": {},
   "source": [
    "### Solution\n",
    "\n"
   ]
  },
  {
   "cell_type": "code",
   "execution_count": 78,
   "id": "f315b4f0-40a0-45c4-8452-c68e27bcefdb",
   "metadata": {},
   "outputs": [],
   "source": [
    "import pandas as pd\n",
    "\n",
    "adult_census = pd.read_csv(\"../../datasets/adult-census.csv\")\n",
    "target_name = \"class\"\n",
    "target = adult_census[target_name]\n",
    "data = adult_census.drop(columns=[target_name, \"education-num\"])\n"
   ]
  },
  {
   "cell_type": "markdown",
   "id": "34fd4ce7-826b-4d73-a3c7-f0018f4d26be",
   "metadata": {},
   "source": [
    "**Q0**"
   ]
  },
  {
   "cell_type": "code",
   "execution_count": 67,
   "id": "577eba7a-6cac-4c87-bba3-d7568757d09c",
   "metadata": {},
   "outputs": [],
   "source": [
    "from sklearn.compose import make_column_selector\n",
    "selector = make_column_selector(dtype_include=object)\n",
    "categorical_columns = selector(data)\n",
    "data_categorical = data[categorical_columns]"
   ]
  },
  {
   "cell_type": "markdown",
   "id": "20b3404c-a71a-4bd9-88af-e0e498883efa",
   "metadata": {},
   "source": [
    "**Q1**: build pipeline\n"
   ]
  },
  {
   "cell_type": "code",
   "execution_count": 72,
   "id": "08dcf904-2fb4-4e52-a3d7-4b6bc646f86e",
   "metadata": {},
   "outputs": [],
   "source": [
    "model = make_pipeline(\n",
    "    OrdinalEncoder(handle_unknown=\"use_encoded_value\", unknown_value=-1),\n",
    "    LogisticRegression(max_iter=500)\n",
    ")"
   ]
  },
  {
   "cell_type": "markdown",
   "id": "1dbd6af0-5216-4bdf-94b9-6f10af05a16f",
   "metadata": {},
   "source": [
    "**Q2**: Cross-validate"
   ]
  },
  {
   "cell_type": "code",
   "execution_count": 73,
   "id": "25a37738-5d4e-4e26-a9e5-8d7178901613",
   "metadata": {},
   "outputs": [],
   "source": [
    "cv_results = cross_validate(model, data_categorical, target)"
   ]
  },
  {
   "cell_type": "code",
   "execution_count": 79,
   "id": "5175f21c-ce24-402a-bc4a-3577639a30b5",
   "metadata": {},
   "outputs": [
    {
     "name": "stdout",
     "output_type": "stream",
     "text": [
      "The mean cross-validation accuracy is: 0.755 ± 0.002\n"
     ]
    }
   ],
   "source": [
    "scores = cv_results[\"test_score\"]\n",
    "print(\n",
    "    \"The mean cross-validation accuracy is: \"\n",
    "    f\"{scores.mean():.3f} ± {scores.std():.3f}\"\n",
    ")"
   ]
  },
  {
   "cell_type": "markdown",
   "id": "b53858d4-9401-4db2-8a5e-02553e8121f2",
   "metadata": {},
   "source": [
    "This performs even worse than using the most frequent class -- which is often a good baseline to compare our models against"
   ]
  },
  {
   "cell_type": "code",
   "execution_count": 80,
   "id": "b768d04c-7349-48cd-acda-4c96a6421e06",
   "metadata": {},
   "outputs": [
    {
     "name": "stdout",
     "output_type": "stream",
     "text": [
      "The mean cross-validation accuracy is: 0.761 ± 0.000\n"
     ]
    }
   ],
   "source": [
    "from sklearn.dummy import DummyClassifier\n",
    "\n",
    "cv_results = cross_validate(\n",
    "    DummyClassifier(strategy=\"most_frequent\"), data_categorical, target\n",
    ")\n",
    "scores = cv_results[\"test_score\"]\n",
    "print(\n",
    "    \"The mean cross-validation accuracy is: \"\n",
    "    f\"{scores.mean():.3f} ± {scores.std():.3f}\"\n",
    ")"
   ]
  },
  {
   "cell_type": "markdown",
   "id": "e64f8be8-3298-4f55-91ed-0e3cf076208b",
   "metadata": {},
   "source": [
    "**Q3**: OneHotEncoder"
   ]
  },
  {
   "cell_type": "code",
   "execution_count": 95,
   "id": "2ccc7ec0-0aa3-4283-8bef-7de5c9413720",
   "metadata": {},
   "outputs": [
    {
     "name": "stdout",
     "output_type": "stream",
     "text": [
      "The mean cross-validation accuracy is: 0.833 ± 0.003\n"
     ]
    }
   ],
   "source": [
    "model = make_pipeline(\n",
    "    OneHotEncoder(handle_unknown=\"ignore\"),\n",
    "    LogisticRegression(max_iter=500)\n",
    ")\n",
    "cv_results = cross_validate(model, data_categorical, target)\n",
    "scores = cv_results[\"test_score\"]\n",
    "print(\n",
    "    \"The mean cross-validation accuracy is: \"\n",
    "    f\"{scores.mean():.3f} ± {scores.std():.3f}\"\n",
    ")"
   ]
  },
  {
   "cell_type": "code",
   "execution_count": null,
   "id": "972f8208-5d27-4d00-b3b5-1aec8935f5ed",
   "metadata": {},
   "outputs": [],
   "source": []
  },
  {
   "cell_type": "code",
   "execution_count": null,
   "id": "fcf4e249-5a70-4a36-b120-9f84f376a6f0",
   "metadata": {},
   "outputs": [],
   "source": []
  },
  {
   "cell_type": "code",
   "execution_count": null,
   "id": "9c0a02ae-33c0-4bcd-ab7f-3360c3da43a6",
   "metadata": {},
   "outputs": [],
   "source": []
  }
 ],
 "metadata": {
  "kernelspec": {
   "display_name": "Python 3 (ipykernel)",
   "language": "python",
   "name": "python3"
  },
  "language_info": {
   "codemirror_mode": {
    "name": "ipython",
    "version": 3
   },
   "file_extension": ".py",
   "mimetype": "text/x-python",
   "name": "python",
   "nbconvert_exporter": "python",
   "pygments_lexer": "ipython3",
   "version": "3.12.4"
  }
 },
 "nbformat": 4,
 "nbformat_minor": 5
}
