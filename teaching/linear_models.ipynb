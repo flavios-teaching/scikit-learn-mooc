{
 "cells": [
  {
   "cell_type": "markdown",
   "id": "f6c67a51-74c4-457b-ab40-594b97b3145d",
   "metadata": {},
   "source": [
    "# Linear models"
   ]
  },
  {
   "cell_type": "markdown",
   "id": "a00c07d8-895f-463b-a2d3-d1df17653c94",
   "metadata": {},
   "source": [
    "## Comparing train and test errors\n"
   ]
  },
  {
   "cell_type": "markdown",
   "id": "6832428c-911d-4626-8826-b2d0a4666828",
   "metadata": {},
   "source": [
    "see video/slides online: https://inria.github.io/scikit-learn-mooc/overfit/learning_validation_curves_slides.html"
   ]
  },
  {
   "cell_type": "code",
   "execution_count": null,
   "id": "1abd4144-8010-4469-8fae-d15ba4c7bc73",
   "metadata": {},
   "outputs": [],
   "source": []
  },
  {
   "cell_type": "code",
   "execution_count": null,
   "id": "50e54855-d58f-4b11-ac45-c87c323bddb4",
   "metadata": {},
   "outputs": [],
   "source": []
  },
  {
   "cell_type": "code",
   "execution_count": null,
   "id": "4ebc409e-2d57-42e4-b2dc-1e03bbf45362",
   "metadata": {},
   "outputs": [],
   "source": []
  }
 ],
 "metadata": {
  "kernelspec": {
   "display_name": "Python 3 (ipykernel)",
   "language": "python",
   "name": "python3"
  },
  "language_info": {
   "codemirror_mode": {
    "name": "ipython",
    "version": 3
   },
   "file_extension": ".py",
   "mimetype": "text/x-python",
   "name": "python",
   "nbconvert_exporter": "python",
   "pygments_lexer": "ipython3",
   "version": "3.11.6"
  }
 },
 "nbformat": 4,
 "nbformat_minor": 5
}
