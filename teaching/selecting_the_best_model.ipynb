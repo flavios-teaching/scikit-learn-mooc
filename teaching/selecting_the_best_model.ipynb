{
 "cells": [
  {
   "cell_type": "markdown",
   "id": "1d1ca572-6d3a-4f2f-988b-6bd40d92586b",
   "metadata": {},
   "source": [
    "# Selecting the best model"
   ]
  },
  {
   "cell_type": "code",
   "execution_count": null,
   "id": "80a0bad8-cf6e-4dde-b82f-5d04eba82569",
   "metadata": {},
   "outputs": [],
   "source": []
  },
  {
   "cell_type": "markdown",
   "id": "4624099a-a0ed-4468-a45f-82e321d5d150",
   "metadata": {},
   "source": [
    "## (1) Overfitting and underfitting (Sven)\n",
    "\n",
    "### Cross-validation framework"
   ]
  },
  {
   "cell_type": "code",
   "execution_count": 1,
   "id": "550c2eb9-9e2f-471f-bb2d-34c2a4c027b7",
   "metadata": {},
   "outputs": [],
   "source": [
    "from sklearn.datasets import fetch_california_housing\n",
    "\n",
    "housing = fetch_california_housing(as_frame=True)\n",
    "data, target = housing.data, housing.target"
   ]
  },
  {
   "cell_type": "code",
   "execution_count": 2,
   "id": "0daa0e0e-e4df-4317-9229-fedb1fcf278d",
   "metadata": {},
   "outputs": [
    {
     "data": {
      "text/plain": [
       "0    452.6\n",
       "1    358.5\n",
       "2    352.1\n",
       "3    341.3\n",
       "4    342.2\n",
       "Name: MedHouseVal, dtype: float64"
      ]
     },
     "execution_count": 2,
     "metadata": {},
     "output_type": "execute_result"
    }
   ],
   "source": [
    "# To simplify future visualization, let’s transform the prices from the 100 (k$) range to the thousand dollars (k$) range.\n",
    "target *= 100\n",
    "target.head()"
   ]
  },
  {
   "cell_type": "markdown",
   "id": "758aa4bb-0d90-4abc-8969-b2c83cd5c9d5",
   "metadata": {},
   "source": [
    "#### Training error vs testing error\n",
    "\n",
    "Trying without train/test split"
   ]
  },
  {
   "cell_type": "code",
   "execution_count": 3,
   "id": "0809769c-78b5-401a-9005-f8dde4fb0e2b",
   "metadata": {},
   "outputs": [
    {
     "data": {
      "text/html": [
       "<style>#sk-container-id-1 {color: black;}#sk-container-id-1 pre{padding: 0;}#sk-container-id-1 div.sk-toggleable {background-color: white;}#sk-container-id-1 label.sk-toggleable__label {cursor: pointer;display: block;width: 100%;margin-bottom: 0;padding: 0.3em;box-sizing: border-box;text-align: center;}#sk-container-id-1 label.sk-toggleable__label-arrow:before {content: \"▸\";float: left;margin-right: 0.25em;color: #696969;}#sk-container-id-1 label.sk-toggleable__label-arrow:hover:before {color: black;}#sk-container-id-1 div.sk-estimator:hover label.sk-toggleable__label-arrow:before {color: black;}#sk-container-id-1 div.sk-toggleable__content {max-height: 0;max-width: 0;overflow: hidden;text-align: left;background-color: #f0f8ff;}#sk-container-id-1 div.sk-toggleable__content pre {margin: 0.2em;color: black;border-radius: 0.25em;background-color: #f0f8ff;}#sk-container-id-1 input.sk-toggleable__control:checked~div.sk-toggleable__content {max-height: 200px;max-width: 100%;overflow: auto;}#sk-container-id-1 input.sk-toggleable__control:checked~label.sk-toggleable__label-arrow:before {content: \"▾\";}#sk-container-id-1 div.sk-estimator input.sk-toggleable__control:checked~label.sk-toggleable__label {background-color: #d4ebff;}#sk-container-id-1 div.sk-label input.sk-toggleable__control:checked~label.sk-toggleable__label {background-color: #d4ebff;}#sk-container-id-1 input.sk-hidden--visually {border: 0;clip: rect(1px 1px 1px 1px);clip: rect(1px, 1px, 1px, 1px);height: 1px;margin: -1px;overflow: hidden;padding: 0;position: absolute;width: 1px;}#sk-container-id-1 div.sk-estimator {font-family: monospace;background-color: #f0f8ff;border: 1px dotted black;border-radius: 0.25em;box-sizing: border-box;margin-bottom: 0.5em;}#sk-container-id-1 div.sk-estimator:hover {background-color: #d4ebff;}#sk-container-id-1 div.sk-parallel-item::after {content: \"\";width: 100%;border-bottom: 1px solid gray;flex-grow: 1;}#sk-container-id-1 div.sk-label:hover label.sk-toggleable__label {background-color: #d4ebff;}#sk-container-id-1 div.sk-serial::before {content: \"\";position: absolute;border-left: 1px solid gray;box-sizing: border-box;top: 0;bottom: 0;left: 50%;z-index: 0;}#sk-container-id-1 div.sk-serial {display: flex;flex-direction: column;align-items: center;background-color: white;padding-right: 0.2em;padding-left: 0.2em;position: relative;}#sk-container-id-1 div.sk-item {position: relative;z-index: 1;}#sk-container-id-1 div.sk-parallel {display: flex;align-items: stretch;justify-content: center;background-color: white;position: relative;}#sk-container-id-1 div.sk-item::before, #sk-container-id-1 div.sk-parallel-item::before {content: \"\";position: absolute;border-left: 1px solid gray;box-sizing: border-box;top: 0;bottom: 0;left: 50%;z-index: -1;}#sk-container-id-1 div.sk-parallel-item {display: flex;flex-direction: column;z-index: 1;position: relative;background-color: white;}#sk-container-id-1 div.sk-parallel-item:first-child::after {align-self: flex-end;width: 50%;}#sk-container-id-1 div.sk-parallel-item:last-child::after {align-self: flex-start;width: 50%;}#sk-container-id-1 div.sk-parallel-item:only-child::after {width: 0;}#sk-container-id-1 div.sk-dashed-wrapped {border: 1px dashed gray;margin: 0 0.4em 0.5em 0.4em;box-sizing: border-box;padding-bottom: 0.4em;background-color: white;}#sk-container-id-1 div.sk-label label {font-family: monospace;font-weight: bold;display: inline-block;line-height: 1.2em;}#sk-container-id-1 div.sk-label-container {text-align: center;}#sk-container-id-1 div.sk-container {/* jupyter's `normalize.less` sets `[hidden] { display: none; }` but bootstrap.min.css set `[hidden] { display: none !important; }` so we also need the `!important` here to be able to override the default hidden behavior on the sphinx rendered scikit-learn.org. See: https://github.com/scikit-learn/scikit-learn/issues/21755 */display: inline-block !important;position: relative;}#sk-container-id-1 div.sk-text-repr-fallback {display: none;}</style><div id=\"sk-container-id-1\" class=\"sk-top-container\"><div class=\"sk-text-repr-fallback\"><pre>DecisionTreeRegressor(random_state=0)</pre><b>In a Jupyter environment, please rerun this cell to show the HTML representation or trust the notebook. <br />On GitHub, the HTML representation is unable to render, please try loading this page with nbviewer.org.</b></div><div class=\"sk-container\" hidden><div class=\"sk-item\"><div class=\"sk-estimator sk-toggleable\"><input class=\"sk-toggleable__control sk-hidden--visually\" id=\"sk-estimator-id-1\" type=\"checkbox\" checked><label for=\"sk-estimator-id-1\" class=\"sk-toggleable__label sk-toggleable__label-arrow\">DecisionTreeRegressor</label><div class=\"sk-toggleable__content\"><pre>DecisionTreeRegressor(random_state=0)</pre></div></div></div></div></div>"
      ],
      "text/plain": [
       "DecisionTreeRegressor(random_state=0)"
      ]
     },
     "execution_count": 3,
     "metadata": {},
     "output_type": "execute_result"
    }
   ],
   "source": [
    "from sklearn.tree import DecisionTreeRegressor\n",
    "\n",
    "regressor = DecisionTreeRegressor(random_state=0)\n",
    "regressor.fit(data, target)"
   ]
  },
  {
   "cell_type": "code",
   "execution_count": 4,
   "id": "9d76f91f-25d6-4dce-a925-576b4fcabd31",
   "metadata": {},
   "outputs": [
    {
     "name": "stdout",
     "output_type": "stream",
     "text": [
      "On average, our regressor makes an error of 0.00 k$\n"
     ]
    }
   ],
   "source": [
    "from sklearn.metrics import mean_absolute_error\n",
    "\n",
    "target_predicted = regressor.predict(data)\n",
    "score = mean_absolute_error(target, target_predicted)\n",
    "print(f\"On average, our regressor makes an error of {score:.2f} k$\")"
   ]
  },
  {
   "cell_type": "code",
   "execution_count": 5,
   "id": "7512491f-434d-4d9d-94ea-91f823bfadff",
   "metadata": {},
   "outputs": [],
   "source": [
    "from sklearn.model_selection import train_test_split\n",
    "\n",
    "data_train, data_test, target_train, target_test = train_test_split(\n",
    "    data, target, random_state=0\n",
    ")"
   ]
  },
  {
   "cell_type": "code",
   "execution_count": 6,
   "id": "a39e5f2c-1dd7-47ec-b5d2-4d2db5518125",
   "metadata": {},
   "outputs": [
    {
     "data": {
      "text/html": [
       "<style>#sk-container-id-2 {color: black;}#sk-container-id-2 pre{padding: 0;}#sk-container-id-2 div.sk-toggleable {background-color: white;}#sk-container-id-2 label.sk-toggleable__label {cursor: pointer;display: block;width: 100%;margin-bottom: 0;padding: 0.3em;box-sizing: border-box;text-align: center;}#sk-container-id-2 label.sk-toggleable__label-arrow:before {content: \"▸\";float: left;margin-right: 0.25em;color: #696969;}#sk-container-id-2 label.sk-toggleable__label-arrow:hover:before {color: black;}#sk-container-id-2 div.sk-estimator:hover label.sk-toggleable__label-arrow:before {color: black;}#sk-container-id-2 div.sk-toggleable__content {max-height: 0;max-width: 0;overflow: hidden;text-align: left;background-color: #f0f8ff;}#sk-container-id-2 div.sk-toggleable__content pre {margin: 0.2em;color: black;border-radius: 0.25em;background-color: #f0f8ff;}#sk-container-id-2 input.sk-toggleable__control:checked~div.sk-toggleable__content {max-height: 200px;max-width: 100%;overflow: auto;}#sk-container-id-2 input.sk-toggleable__control:checked~label.sk-toggleable__label-arrow:before {content: \"▾\";}#sk-container-id-2 div.sk-estimator input.sk-toggleable__control:checked~label.sk-toggleable__label {background-color: #d4ebff;}#sk-container-id-2 div.sk-label input.sk-toggleable__control:checked~label.sk-toggleable__label {background-color: #d4ebff;}#sk-container-id-2 input.sk-hidden--visually {border: 0;clip: rect(1px 1px 1px 1px);clip: rect(1px, 1px, 1px, 1px);height: 1px;margin: -1px;overflow: hidden;padding: 0;position: absolute;width: 1px;}#sk-container-id-2 div.sk-estimator {font-family: monospace;background-color: #f0f8ff;border: 1px dotted black;border-radius: 0.25em;box-sizing: border-box;margin-bottom: 0.5em;}#sk-container-id-2 div.sk-estimator:hover {background-color: #d4ebff;}#sk-container-id-2 div.sk-parallel-item::after {content: \"\";width: 100%;border-bottom: 1px solid gray;flex-grow: 1;}#sk-container-id-2 div.sk-label:hover label.sk-toggleable__label {background-color: #d4ebff;}#sk-container-id-2 div.sk-serial::before {content: \"\";position: absolute;border-left: 1px solid gray;box-sizing: border-box;top: 0;bottom: 0;left: 50%;z-index: 0;}#sk-container-id-2 div.sk-serial {display: flex;flex-direction: column;align-items: center;background-color: white;padding-right: 0.2em;padding-left: 0.2em;position: relative;}#sk-container-id-2 div.sk-item {position: relative;z-index: 1;}#sk-container-id-2 div.sk-parallel {display: flex;align-items: stretch;justify-content: center;background-color: white;position: relative;}#sk-container-id-2 div.sk-item::before, #sk-container-id-2 div.sk-parallel-item::before {content: \"\";position: absolute;border-left: 1px solid gray;box-sizing: border-box;top: 0;bottom: 0;left: 50%;z-index: -1;}#sk-container-id-2 div.sk-parallel-item {display: flex;flex-direction: column;z-index: 1;position: relative;background-color: white;}#sk-container-id-2 div.sk-parallel-item:first-child::after {align-self: flex-end;width: 50%;}#sk-container-id-2 div.sk-parallel-item:last-child::after {align-self: flex-start;width: 50%;}#sk-container-id-2 div.sk-parallel-item:only-child::after {width: 0;}#sk-container-id-2 div.sk-dashed-wrapped {border: 1px dashed gray;margin: 0 0.4em 0.5em 0.4em;box-sizing: border-box;padding-bottom: 0.4em;background-color: white;}#sk-container-id-2 div.sk-label label {font-family: monospace;font-weight: bold;display: inline-block;line-height: 1.2em;}#sk-container-id-2 div.sk-label-container {text-align: center;}#sk-container-id-2 div.sk-container {/* jupyter's `normalize.less` sets `[hidden] { display: none; }` but bootstrap.min.css set `[hidden] { display: none !important; }` so we also need the `!important` here to be able to override the default hidden behavior on the sphinx rendered scikit-learn.org. See: https://github.com/scikit-learn/scikit-learn/issues/21755 */display: inline-block !important;position: relative;}#sk-container-id-2 div.sk-text-repr-fallback {display: none;}</style><div id=\"sk-container-id-2\" class=\"sk-top-container\"><div class=\"sk-text-repr-fallback\"><pre>DecisionTreeRegressor(random_state=0)</pre><b>In a Jupyter environment, please rerun this cell to show the HTML representation or trust the notebook. <br />On GitHub, the HTML representation is unable to render, please try loading this page with nbviewer.org.</b></div><div class=\"sk-container\" hidden><div class=\"sk-item\"><div class=\"sk-estimator sk-toggleable\"><input class=\"sk-toggleable__control sk-hidden--visually\" id=\"sk-estimator-id-2\" type=\"checkbox\" checked><label for=\"sk-estimator-id-2\" class=\"sk-toggleable__label sk-toggleable__label-arrow\">DecisionTreeRegressor</label><div class=\"sk-toggleable__content\"><pre>DecisionTreeRegressor(random_state=0)</pre></div></div></div></div></div>"
      ],
      "text/plain": [
       "DecisionTreeRegressor(random_state=0)"
      ]
     },
     "execution_count": 6,
     "metadata": {},
     "output_type": "execute_result"
    }
   ],
   "source": [
    "regressor.fit(data_train, target_train)"
   ]
  },
  {
   "cell_type": "code",
   "execution_count": 7,
   "id": "7ce86bbc-0ddc-4a2b-a476-2f344d900cde",
   "metadata": {},
   "outputs": [
    {
     "name": "stdout",
     "output_type": "stream",
     "text": [
      "The training error of our model is 0.00 k$\n"
     ]
    }
   ],
   "source": [
    "target_predicted = regressor.predict(data_train)\n",
    "score = mean_absolute_error(target_train, target_predicted)\n",
    "print(f\"The training error of our model is {score:.2f} k$\")"
   ]
  },
  {
   "cell_type": "code",
   "execution_count": 8,
   "id": "cc210277-8a9d-4591-9a84-e25259b19d3b",
   "metadata": {},
   "outputs": [
    {
     "name": "stdout",
     "output_type": "stream",
     "text": [
      "The testing error of our model is 47.28 k$\n"
     ]
    }
   ],
   "source": [
    "target_predicted = regressor.predict(data_test)\n",
    "score = mean_absolute_error(target_test, target_predicted)\n",
    "print(f\"The testing error of our model is {score:.2f} k$\")"
   ]
  },
  {
   "cell_type": "markdown",
   "id": "a29866b5-7f57-4fce-a2d2-59b84d30b612",
   "metadata": {},
   "source": [
    "Cross-validation: estimate robustness of a predictive model by repeating the splitting procedure. Gives several training and testing errors and \n",
    "therefore we can estimate how much the model generalization performance varies (as a an approximation to the \"new\" data that arrive in production). \n",
    "\n",
    "shuffle split\n",
    "- make copy of dataset where order of observations are shuffled\n",
    "- make train/test split\n",
    "- train model on train, evaluate on test\n"
   ]
  },
  {
   "cell_type": "code",
   "execution_count": 9,
   "id": "ffe2e7b1-e949-49f4-a912-a7316c34398a",
   "metadata": {},
   "outputs": [],
   "source": [
    "from sklearn.model_selection import cross_validate\n",
    "from sklearn.model_selection import ShuffleSplit\n",
    "\n",
    "cv = ShuffleSplit(n_splits=40, test_size=0.3, random_state=0)\n",
    "# this creates 40 cv splits, where 30% of records are in test data set\n",
    "cv_results = cross_validate(\n",
    "    regressor, data, target, cv=cv, scoring=\"neg_mean_absolute_error\"\n",
    ")\n",
    "# the ShuffleSplit repeatedly spits out the shuffled train/test splits and lets sklearn train a new model on the train data and evaluate on the test data."
   ]
  },
  {
   "cell_type": "code",
   "execution_count": 10,
   "id": "3e2112e4-ef18-4a4a-957b-226310b14346",
   "metadata": {},
   "outputs": [
    {
     "name": "stdout",
     "output_type": "stream",
     "text": [
      "[ 1989   256  7887 ...  9845 10799  2732] [14740 10101 20566 ... 10211  2445 17914]\n",
      "[ 3364 16548  7361 ...  5154 14875  2751] [ 9959 16306 17662 ... 20549  1212 17484]\n",
      "[12518 17324  1688 ...  9972  1146   747] [20340 18230 15362 ...  2035  6919  6461]\n",
      "[15912   555  5108 ... 14722  5851 12988] [ 5313  7640 18918 ...  5008  3312 18057]\n",
      "[10604  1016  3266 ...   526  6465  9283] [ 7357  4713 10050 ...  1544 11416  6346]\n",
      "[20356 13340  7263 ... 10572 16502 14054] [10502 14461 10915 ...  8940  5024  3583]\n",
      "[ 9803  7879 11052 ... 13881  1853 13042] [13182  1320  2362 ... 13276 18258  7491]\n",
      "[17232 19201 13640 ... 10609  1597 11674] [ 3344   302 20417 ... 12118 15635  5754]\n",
      "[18558  3153  8256 ...  2442 16057 18358] [ 5997   295  2025 ...  4540 15907  1990]\n",
      "[10931  6653 19020 ... 19800  6174 10120] [ 6580 14013 12559 ... 14312 13338  7646]\n",
      "[ 7407 10308 16190 ...  8158 20388  3002] [10768 10864  2580 ... 11360  4314  4105]\n",
      "[  719 18917  5337 ...    83 10723  3340] [14615  4459  3043 ... 13013 17231    48]\n",
      "[ 7916 17976 16972 ... 13638 11310 18215] [12227  8164 11921 ...  2912 18550   269]\n",
      "[14941   378 17191 ... 13560   304 18033] [13109 10203  4911 ... 15997  9224 11830]\n",
      "[16051  6446 20563 ... 12010  1748 13479] [13112  1550 20295 ...    34 10931 17784]\n",
      "[13919 14622  6811 ... 15831 10253 17573] [ 7372  8571 11945 ...  9870 18844  8361]\n",
      "[ 1791 17192 10357 ... 15953 13791  3742] [14731 17561 13050 ...  5145 11292   733]\n",
      "[ 5853 17054 12736 ...  8291 15284  3873] [11290 15345 13201 ... 16713  3203 15694]\n",
      "[ 9490  5774 19005 ...  4644 11890  6751] [  545  5914  1194 ... 19346 13214  1783]\n",
      "[ 2087  8761  5309 ... 18256 16849 11852] [10610 15048  1166 ... 12674  7613 13254]\n",
      "[ 1353  3845 15756 ... 17553  8977 18026] [ 3342 13283 15765 ... 17635  6815  9131]\n",
      "[19921  8458 18889 ... 12996 19215  3625] [12369 15433  6410 ... 11275  1788  8574]\n",
      "[ 9858 19480  1710 ... 18942 12814  8309] [15948 17464 13225 ...  8562  9418  1854]\n",
      "[ 4099 12535  4149 ... 18020  4205 20338] [ 3979  2931 15403 ... 15676 18914     4]\n",
      "[10799  3500 10904 ...  9093 10248  6202] [16001 17417 16190 ... 18034 20071  2928]\n",
      "[ 3245 15245 12179 ... 11924  2313 19602] [15497 20250 20520 ... 14176 13589 13315]\n",
      "[14964 10997 14474 ... 11342 12264 19262] [15761 11288  1119 ...  7547  3744  9514]\n",
      "[11498 15182  9381 ...   857 11206  9792] [18657 11556  9115 ...  7267 16544 17702]\n",
      "[15275   230  3093 ... 14022  7373  7798] [12422 16605  5433 ...  5975 16744 11690]\n",
      "[16382  4066 16136 ...  6781  9674  1093] [19057  2027  1634 ... 18047 19451  2893]\n",
      "[12872 11579 11378 ... 18729 15918 16465] [  204  2357 19173 ...  9591  6166 10713]\n",
      "[20612 11934  2136 ...  8504  7905   230] [17398  9740  2045 ...    19  5071  7451]\n",
      "[ 1925 11503 18202 ... 19998 15865  2596] [16510 15666  8228 ... 19052 17070 11509]\n",
      "[18431 19175 11668 ... 16476 13214  1746] [ 2487 17152 17042 ...  2966 13231 10180]\n",
      "[ 4762 18773  2883 ...  7474  2329 18605] [ 8476  3899   109 ... 11022 10168   894]\n",
      "[ 5628 15157 16360 ...  6438   746 19740] [ 1918   564  7406 ...  7996  5692 20514]\n",
      "[20519  5774 12116 ...  8024 20261  7364] [10167  9473   828 ... 13285  6920 12035]\n",
      "[18416 18319 15482 ... 17311 20589 13162] [10930 15771  1142 ...  7600  2554 13790]\n",
      "[ 1597 14406  8513 ...  6052 16273 15483] [17854  3190  1959 ... 20537  8135  4888]\n",
      "[ 8683  9855 13795 ...  6342 10717  3752] [14369  8483  6552 ... 15390 17427  8695]\n"
     ]
    }
   ],
   "source": [
    "# just some intuition for what ShuffleSplit does\n",
    "for train_index, test_index in cv.split(data): # TODO: this is not course material. is it useful anyway?\n",
    "    print(\"%s %s\" % (train_index, test_index))"
   ]
  },
  {
   "cell_type": "markdown",
   "id": "c20fdf63-3501-4050-aaac-6d5c11c53ce2",
   "metadata": {},
   "source": [
    "Note: some of these things are covered in the \"Overfitting and underfitting section\", thus it may not be necessary to cover them again/in detail\n",
    "\n",
    "What does the `ShuffleSplit` do? \n",
    "- https://scikit-learn.org/stable/modules/cross_validation.html#random-permutations-cross-validation-a-k-a-shuffle-split\n",
    "- https://stackoverflow.com/questions/34731421/whats-the-difference-between-kfold-and-shufflesplit-cv\n",
    "- it creates train and test samples randomly in each iteration. this means that a single observation can be multiple times in the test set.\n",
    "\n",
    "parameters\n",
    "- `n_splits`: the number of train-test splits\n",
    "- `test_size`: size of test data, as a fraction of the full data set\n",
    "- `random_state`: makes the results reproducible b/c it fixes tells the random number generator where to start randomizing\n",
    "\n",
    "We can pass this input to the cross_validate function below as the `cv` argument.\n",
    "\n"
   ]
  },
  {
   "cell_type": "code",
   "execution_count": 11,
   "id": "31e845d7-364d-4f16-8754-daaaf0abd7a2",
   "metadata": {},
   "outputs": [
    {
     "data": {
      "text/html": [
       "<div>\n",
       "<style scoped>\n",
       "    .dataframe tbody tr th:only-of-type {\n",
       "        vertical-align: middle;\n",
       "    }\n",
       "\n",
       "    .dataframe tbody tr th {\n",
       "        vertical-align: top;\n",
       "    }\n",
       "\n",
       "    .dataframe thead th {\n",
       "        text-align: right;\n",
       "    }\n",
       "</style>\n",
       "<table border=\"1\" class=\"dataframe\">\n",
       "  <thead>\n",
       "    <tr style=\"text-align: right;\">\n",
       "      <th></th>\n",
       "      <th>fit_time</th>\n",
       "      <th>score_time</th>\n",
       "      <th>test_score</th>\n",
       "    </tr>\n",
       "  </thead>\n",
       "  <tbody>\n",
       "    <tr>\n",
       "      <th>0</th>\n",
       "      <td>0.134735</td>\n",
       "      <td>0.002323</td>\n",
       "      <td>-46.909797</td>\n",
       "    </tr>\n",
       "    <tr>\n",
       "      <th>1</th>\n",
       "      <td>0.117729</td>\n",
       "      <td>0.002699</td>\n",
       "      <td>-46.421170</td>\n",
       "    </tr>\n",
       "    <tr>\n",
       "      <th>2</th>\n",
       "      <td>0.118868</td>\n",
       "      <td>0.002216</td>\n",
       "      <td>-47.411089</td>\n",
       "    </tr>\n",
       "    <tr>\n",
       "      <th>3</th>\n",
       "      <td>0.120171</td>\n",
       "      <td>0.002175</td>\n",
       "      <td>-44.319824</td>\n",
       "    </tr>\n",
       "    <tr>\n",
       "      <th>4</th>\n",
       "      <td>0.117533</td>\n",
       "      <td>0.002098</td>\n",
       "      <td>-47.607875</td>\n",
       "    </tr>\n",
       "  </tbody>\n",
       "</table>\n",
       "</div>"
      ],
      "text/plain": [
       "   fit_time  score_time  test_score\n",
       "0  0.134735    0.002323  -46.909797\n",
       "1  0.117729    0.002699  -46.421170\n",
       "2  0.118868    0.002216  -47.411089\n",
       "3  0.120171    0.002175  -44.319824\n",
       "4  0.117533    0.002098  -47.607875"
      ]
     },
     "execution_count": 11,
     "metadata": {},
     "output_type": "execute_result"
    }
   ],
   "source": [
    "import pandas as pd\n",
    "\n",
    "cv_results = pd.DataFrame(cv_results)\n",
    "cv_results.head()"
   ]
  },
  {
   "cell_type": "markdown",
   "id": "219f1a42-b201-4c81-8a29-e562f913a6bb",
   "metadata": {},
   "source": [
    "Lingo: score vs error\n",
    "- score = higher values mean better results\n",
    "- error = lower values mean better results\n",
    "\n",
    "`scoring` parameter in `cross_validate` expects a function that is a score (why does that matter? does it not just calculate the error/score and return it? does it do something with it?)\n",
    "\n",
    "so, the mean abs error is an error, but we need a score -- so we take the negative. But to look at the mean absolute error for our purpose, we need to again re-convert the score to an error."
   ]
  },
  {
   "cell_type": "code",
   "execution_count": 12,
   "id": "346b238b-f2e2-471e-b3a3-d25250ad8583",
   "metadata": {},
   "outputs": [],
   "source": [
    "cv_results[\"test_error\"] = -cv_results[\"test_score\"]"
   ]
  },
  {
   "cell_type": "code",
   "execution_count": 13,
   "id": "780f3190-710d-4f1b-80b8-e398c9940ead",
   "metadata": {},
   "outputs": [
    {
     "data": {
      "text/html": [
       "<div>\n",
       "<style scoped>\n",
       "    .dataframe tbody tr th:only-of-type {\n",
       "        vertical-align: middle;\n",
       "    }\n",
       "\n",
       "    .dataframe tbody tr th {\n",
       "        vertical-align: top;\n",
       "    }\n",
       "\n",
       "    .dataframe thead th {\n",
       "        text-align: right;\n",
       "    }\n",
       "</style>\n",
       "<table border=\"1\" class=\"dataframe\">\n",
       "  <thead>\n",
       "    <tr style=\"text-align: right;\">\n",
       "      <th></th>\n",
       "      <th>fit_time</th>\n",
       "      <th>score_time</th>\n",
       "      <th>test_score</th>\n",
       "      <th>test_error</th>\n",
       "    </tr>\n",
       "  </thead>\n",
       "  <tbody>\n",
       "    <tr>\n",
       "      <th>0</th>\n",
       "      <td>0.134735</td>\n",
       "      <td>0.002323</td>\n",
       "      <td>-46.909797</td>\n",
       "      <td>46.909797</td>\n",
       "    </tr>\n",
       "    <tr>\n",
       "      <th>1</th>\n",
       "      <td>0.117729</td>\n",
       "      <td>0.002699</td>\n",
       "      <td>-46.421170</td>\n",
       "      <td>46.421170</td>\n",
       "    </tr>\n",
       "    <tr>\n",
       "      <th>2</th>\n",
       "      <td>0.118868</td>\n",
       "      <td>0.002216</td>\n",
       "      <td>-47.411089</td>\n",
       "      <td>47.411089</td>\n",
       "    </tr>\n",
       "    <tr>\n",
       "      <th>3</th>\n",
       "      <td>0.120171</td>\n",
       "      <td>0.002175</td>\n",
       "      <td>-44.319824</td>\n",
       "      <td>44.319824</td>\n",
       "    </tr>\n",
       "    <tr>\n",
       "      <th>4</th>\n",
       "      <td>0.117533</td>\n",
       "      <td>0.002098</td>\n",
       "      <td>-47.607875</td>\n",
       "      <td>47.607875</td>\n",
       "    </tr>\n",
       "  </tbody>\n",
       "</table>\n",
       "</div>"
      ],
      "text/plain": [
       "   fit_time  score_time  test_score  test_error\n",
       "0  0.134735    0.002323  -46.909797   46.909797\n",
       "1  0.117729    0.002699  -46.421170   46.421170\n",
       "2  0.118868    0.002216  -47.411089   47.411089\n",
       "3  0.120171    0.002175  -44.319824   44.319824\n",
       "4  0.117533    0.002098  -47.607875   47.607875"
      ]
     },
     "execution_count": 13,
     "metadata": {},
     "output_type": "execute_result"
    }
   ],
   "source": [
    "cv_results.head()"
   ]
  },
  {
   "cell_type": "code",
   "execution_count": 14,
   "id": "641ab553-9dc2-4b5a-a422-600028a43457",
   "metadata": {},
   "outputs": [
    {
     "data": {
      "image/png": "[encoded data removed]",
      "text/plain": [
       "<Figure size 640x480 with 1 Axes>"
      ]
     },
     "metadata": {},
     "output_type": "display_data"
    }
   ],
   "source": [
    "import matplotlib.pyplot as plt\n",
    "\n",
    "cv_results[\"test_error\"].plot.hist(bins=10, edgecolor=\"black\")\n",
    "plt.xlabel(\"Mean absolute error (k$)\")\n",
    "_ = plt.title(\"Test error distribution\")"
   ]
  },
  {
   "cell_type": "markdown",
   "id": "b2dcca7a-5124-4f3e-95c1-7235efcd6019",
   "metadata": {},
   "source": [
    "What does this mean? <mark> Call-out? </mark>\n",
    ">We notice that the mean estimate of the testing error obtained by cross-validation is a bit smaller than the natural scale of variation of the target variable. Furthermore, the standard deviation of the cross validation estimate of the testing error is even smaller.\n",
    "\n",
    "- mean estimate of testing error is 47k\n",
    "- what is the \"natural scale of variation of the target variable\"? -- it is just the range of the outcome, from around 50k to 500k\n",
    "- but then I don't understand 47k is \"a bit smaller than the range\", which is 500k?\n",
    "- small std of cross-validated error indicates good out-of-sample performance of the model\n"
   ]
  },
  {
   "cell_type": "code",
   "execution_count": null,
   "id": "82ab8539-70a6-4c94-ac7d-ab5ca1d904b1",
   "metadata": {},
   "outputs": [],
   "source": []
  },
  {
   "cell_type": "code",
   "execution_count": null,
   "id": "6557a840-9090-4fa6-9a85-7addf1bb599b",
   "metadata": {},
   "outputs": [],
   "source": []
  },
  {
   "cell_type": "markdown",
   "id": "b7df9041-5d20-4e6a-a24c-aa4e1658cc75",
   "metadata": {},
   "source": [
    "## (2) Validation and learning curves"
   ]
  },
  {
   "cell_type": "markdown",
   "id": "02ef9b87-f664-46b0-91c6-57e3bd2f79ab",
   "metadata": {},
   "source": [
    "### Comparing train and test errors"
   ]
  },
  {
   "cell_type": "markdown",
   "id": "b1119162-1433-4938-8000-3fe5ac857a92",
   "metadata": {},
   "source": [
    "See the video/slides: https://inria.github.io/scikit-learn-mooc/overfit/learning_validation_curves_slides.html"
   ]
  },
  {
   "cell_type": "markdown",
   "id": "46d75a4f-f994-45ab-afbd-d63e0636e758",
   "metadata": {},
   "source": [
    "Presentation notes \n",
    "\n",
    "train vs test error\n",
    "- black training data points\n",
    "- fit blue prediction function\n",
    "- orange test data (generalization error). -- fundamental goal of ML: good prediction of y given x on unseen data.\n",
    "- we can contrast the train and test error to understand better how well it generalizes\n",
    "\n",
    "**train vs test error: increasing complexity**\n",
    "- polynomial: higher degree = higher complexity. first order = linear in x. second-order = quadratic in x. etc.\n",
    "- compare the train and test error: average distance between the blue prediction line and the respective data points.\n",
    "- on average, train error < test error b/c it's easier to remember the training data\n",
    "- degree 2 polynomial: lowers both train and test error\n",
    "- degree 5 poly: train error decreases further; but it seems it fits some noise in the training data that are not present in the test data (the very right of the figure). thus, test error increases.\n",
    "- degree 9 poly: gets extreme.\n",
    "- in sum: get an intuition of how a more complex model impacts train and test error: low degree poly -> train and test error are high. higher complexity -> \"sweet spot\" test error is minimal. higher complexity -> test error gets higher again. *overfitting*\n",
    "\n",
    "**train vs test error: varying the sample size**\n",
    "- fix the complexity of the model; see how a bigger training set impacts the test error\n",
    "- few data points -> function varies.\n",
    "- adding data points -> function gets smoother. test error goes down. intuition: the model can approximate the true data generating process better; noise in the training data has smaller impact on the prediction. (train error also increases; but reason not clear)\n",
    "- at some point, the train and test error ar the same, suggesting we're close to the optimal model\n",
    "- going beyond it -> no more changes; \"diminishing returns\". if computation is costly, this is mostly adding costs without adding value\n",
    "- *with large enough training data, the degree 9 poly does not overfit anymore*\n",
    "- general pattern: model complexity *relative* to the training data\n",
    "- we cannot bring the test error to 0: \"Bayes error rate\" / \"irreducible error\" -- arises from the random noise that is in the data generating process. *best we can do*\n",
    "\n",
    "\n",
    "**model families**\n",
    "- in ML, we always have a statistical model, and an unknown data-generating process\n",
    "- by choosing the statistical model, we want to match the DGP\n",
    "- so far, we had polynomials for both DGP and the stat model\n",
    "- we can also choose a different model family. what happens then?\n",
    "- decision tree: piece-wise linear: predict constant y for a range of x. (blue line)\n",
    "- they have different inductive biases and different notions of complexity\n",
    "- inductive bias = \"the set of assumptions that the learner uses to predict outputs of given inputs that it has not encountered.\"\n",
    "- there is always an inductive bias *unless* we choose the correct model class that matches the DGP\n",
    "- model families have different notions of complexity: higher degrees in polynomial = higher number of splits in the decision tree. both lead to overfitting.\n",
    "- regularization = favor smooth, simple functions over complex functions. this reduces overfitting. *change parameters while keeping the model fixed*\n",
    "\n",
    "**take-home messages**\n",
    "- models overfit when number of examples in the training set is too small compared to the complexity of the model\n",
    "- we can detect overfitting when the testing error is much bigger than the training error (but not necessarily? -- better to \"minimize test error\"?)\n",
    "- models underfit if they fail to capture the shape of the training set -> even the training error is large. BUT: it could also be noise in the DGP.\n",
    "\n",
    "We'll see how this works in practice now.\n",
    "\n"
   ]
  },
  {
   "cell_type": "markdown",
   "id": "6898d1c1-9e08-460b-974e-a7cdeeff4b56",
   "metadata": {},
   "source": [
    "### Overfit-generalization-underfit"
   ]
  },
  {
   "cell_type": "markdown",
   "id": "08e1dfa9-f9fe-49fe-b932-e1e03c294d9b",
   "metadata": {},
   "source": [
    "We now want to use the cross-validation approach to quantify training and testing errors. This helps us to find out whether our model generalizes, overfits or underfits."
   ]
  },
  {
   "cell_type": "code",
   "execution_count": 15,
   "id": "18f92ee3-22ae-4125-8afe-265364d5809b",
   "metadata": {},
   "outputs": [],
   "source": [
    "# already done above\n",
    "# housing = fetch_california_housing(as_frame=True)\n",
    "# data, target = housing.data, housing.target # we just extract the explanatory variables and the outcome\n",
    "# target *= 100 # rescale the target to thousands of dollars (the original data are in hundreds of thousands of dollars) \n",
    "# # https://inria.github.io/scikit-learn-mooc/python_scripts/datasets_california_housing.html\n"
   ]
  },
  {
   "cell_type": "code",
   "execution_count": 16,
   "id": "bf855c20-087f-4951-a240-416303228b11",
   "metadata": {},
   "outputs": [],
   "source": [
    "# target.head()"
   ]
  },
  {
   "cell_type": "code",
   "execution_count": 17,
   "id": "4d47103a-db23-462d-9e43-148ca116a30f",
   "metadata": {},
   "outputs": [],
   "source": [
    "# from sklearn.tree import DecisionTreeRegressor\n",
    "\n",
    "# regressor = DecisionTreeRegressor()\n",
    "\n",
    "# DELETE?\n"
   ]
  },
  {
   "cell_type": "markdown",
   "id": "0e9f7324-dc1a-4b80-8da0-b14a0f1979f3",
   "metadata": {},
   "source": [
    "The decision tree regressor was \"introduced\" / used (but not explained) in the previous segment."
   ]
  },
  {
   "cell_type": "markdown",
   "id": "831ec8b3-9b43-4abb-ae85-fe7d6db7816c",
   "metadata": {},
   "source": [
    "#### Overfitting vs underfitting\n",
    "\n",
    "\n",
    "In order to understand how our model generalizes, we want to compare the testing and the training error. To compute the error on the test set with the `cross_validate` function"
   ]
  },
  {
   "cell_type": "code",
   "execution_count": 18,
   "id": "1679e803-4f58-4818-8613-da68da530baf",
   "metadata": {},
   "outputs": [],
   "source": [
    "# already imported above\n",
    "# from sklearn.model_selection import cross_validate, ShuffleSplit"
   ]
  },
  {
   "cell_type": "code",
   "execution_count": 19,
   "id": "01061d5e-6228-450f-bcfc-71fadf2f094b",
   "metadata": {},
   "outputs": [],
   "source": [
    "cv = ShuffleSplit(n_splits=30, test_size=0.2, random_state=0)"
   ]
  },
  {
   "cell_type": "code",
   "execution_count": null,
   "id": "6a1b9d66-5e30-493a-95b2-99de68c4b0f0",
   "metadata": {},
   "outputs": [],
   "source": []
  },
  {
   "cell_type": "code",
   "execution_count": 20,
   "id": "2c43aae9-c191-4421-9543-c8fcf38af584",
   "metadata": {},
   "outputs": [],
   "source": [
    "cv_results = cross_validate(\n",
    "    regressor,\n",
    "    data,\n",
    "    target,\n",
    "    cv=cv,\n",
    "    scoring=\"neg_mean_absolute_error\",\n",
    "    return_train_score=True,\n",
    "    n_jobs=2,\n",
    ")"
   ]
  },
  {
   "cell_type": "code",
   "execution_count": 21,
   "id": "06f5548e-1a58-46ec-9eef-0c6a907eae56",
   "metadata": {},
   "outputs": [
    {
     "data": {
      "text/plain": [
       "{'fit_time': array([0.15901041, 0.15462327, 0.14369011, 0.14404035, 0.13351107,\n",
       "        0.15129304, 0.13570118, 0.15595984, 0.13709831, 0.15563917,\n",
       "        0.1382761 , 0.13780141, 0.14230585, 0.1352129 , 0.13348413,\n",
       "        0.13836837, 0.13418651, 0.13779807, 0.13718748, 0.14034796,\n",
       "        0.13443398, 0.13722944, 0.13685179, 0.14045691, 0.13579845,\n",
       "        0.1356163 , 0.14474726, 0.14174986, 0.13976908, 0.13761449]),\n",
       " 'score_time': array([0.00211239, 0.00247335, 0.00182414, 0.00187087, 0.00188708,\n",
       "        0.00208926, 0.00185013, 0.00192165, 0.00216556, 0.00203633,\n",
       "        0.00193024, 0.00200391, 0.00206995, 0.00203156, 0.00213957,\n",
       "        0.00203466, 0.00181746, 0.00215149, 0.00189781, 0.00222826,\n",
       "        0.00189853, 0.00200653, 0.00207996, 0.00211382, 0.00194407,\n",
       "        0.00215816, 0.00210381, 0.00231051, 0.00191712, 0.00191021]),\n",
       " 'test_score': array([-46.92525848, -46.6962173 , -45.06884133, -43.57765528,\n",
       "        -48.05169307, -44.58310441, -44.42208236, -45.1216984 ,\n",
       "        -44.96031032, -45.14051914, -47.27880063, -46.76900751,\n",
       "        -46.07751163, -45.55437984, -47.20800945, -44.38683794,\n",
       "        -45.99953682, -46.76782049, -45.11137815, -47.4055906 ,\n",
       "        -43.39771245, -46.00505475, -45.36389753, -46.79342878,\n",
       "        -46.32596754, -45.71983503, -44.41470058, -46.21278246,\n",
       "        -45.68218314, -47.66419259]),\n",
       " 'train_score': array([-1.51747693e-14, -3.29796483e-15, -9.32587341e-15, -1.26376084e-14,\n",
       "        -8.81293316e-15, -1.25859702e-14, -1.44070802e-14, -3.74549659e-15,\n",
       "        -1.12123919e-14, -3.45976477e-15, -3.38747118e-15, -1.57935680e-14,\n",
       "        -1.52126374e-14, -1.00763497e-14, -1.23622043e-14, -1.36772592e-14,\n",
       "        -1.33811997e-14, -3.24976910e-15, -3.21190103e-15, -3.79369232e-15,\n",
       "        -1.50542800e-14, -1.21074554e-14, -1.42452802e-14, -3.64566258e-15,\n",
       "        -3.58369665e-15, -1.52952586e-14, -3.42189670e-15, -1.32193997e-14,\n",
       "        -1.28544892e-14, -3.09141171e-15])}"
      ]
     },
     "execution_count": 21,
     "metadata": {},
     "output_type": "execute_result"
    }
   ],
   "source": [
    "cv_results"
   ]
  },
  {
   "cell_type": "code",
   "execution_count": 22,
   "id": "eff29ce0-dbe1-4501-a604-8d57eb7d8789",
   "metadata": {},
   "outputs": [],
   "source": [
    "cv_results = pd.DataFrame(cv_results)"
   ]
  },
  {
   "cell_type": "code",
   "execution_count": 23,
   "id": "cced045a-88e4-4275-93d0-245d91f1174f",
   "metadata": {},
   "outputs": [
    {
     "data": {
      "text/html": [
       "<div>\n",
       "<style scoped>\n",
       "    .dataframe tbody tr th:only-of-type {\n",
       "        vertical-align: middle;\n",
       "    }\n",
       "\n",
       "    .dataframe tbody tr th {\n",
       "        vertical-align: top;\n",
       "    }\n",
       "\n",
       "    .dataframe thead th {\n",
       "        text-align: right;\n",
       "    }\n",
       "</style>\n",
       "<table border=\"1\" class=\"dataframe\">\n",
       "  <thead>\n",
       "    <tr style=\"text-align: right;\">\n",
       "      <th></th>\n",
       "      <th>fit_time</th>\n",
       "      <th>score_time</th>\n",
       "      <th>test_score</th>\n",
       "      <th>train_score</th>\n",
       "    </tr>\n",
       "  </thead>\n",
       "  <tbody>\n",
       "    <tr>\n",
       "      <th>0</th>\n",
       "      <td>0.159010</td>\n",
       "      <td>0.002112</td>\n",
       "      <td>-46.925258</td>\n",
       "      <td>-1.517477e-14</td>\n",
       "    </tr>\n",
       "    <tr>\n",
       "      <th>1</th>\n",
       "      <td>0.154623</td>\n",
       "      <td>0.002473</td>\n",
       "      <td>-46.696217</td>\n",
       "      <td>-3.297965e-15</td>\n",
       "    </tr>\n",
       "    <tr>\n",
       "      <th>2</th>\n",
       "      <td>0.143690</td>\n",
       "      <td>0.001824</td>\n",
       "      <td>-45.068841</td>\n",
       "      <td>-9.325873e-15</td>\n",
       "    </tr>\n",
       "    <tr>\n",
       "      <th>3</th>\n",
       "      <td>0.144040</td>\n",
       "      <td>0.001871</td>\n",
       "      <td>-43.577655</td>\n",
       "      <td>-1.263761e-14</td>\n",
       "    </tr>\n",
       "    <tr>\n",
       "      <th>4</th>\n",
       "      <td>0.133511</td>\n",
       "      <td>0.001887</td>\n",
       "      <td>-48.051693</td>\n",
       "      <td>-8.812933e-15</td>\n",
       "    </tr>\n",
       "    <tr>\n",
       "      <th>5</th>\n",
       "      <td>0.151293</td>\n",
       "      <td>0.002089</td>\n",
       "      <td>-44.583104</td>\n",
       "      <td>-1.258597e-14</td>\n",
       "    </tr>\n",
       "    <tr>\n",
       "      <th>6</th>\n",
       "      <td>0.135701</td>\n",
       "      <td>0.001850</td>\n",
       "      <td>-44.422082</td>\n",
       "      <td>-1.440708e-14</td>\n",
       "    </tr>\n",
       "    <tr>\n",
       "      <th>7</th>\n",
       "      <td>0.155960</td>\n",
       "      <td>0.001922</td>\n",
       "      <td>-45.121698</td>\n",
       "      <td>-3.745497e-15</td>\n",
       "    </tr>\n",
       "    <tr>\n",
       "      <th>8</th>\n",
       "      <td>0.137098</td>\n",
       "      <td>0.002166</td>\n",
       "      <td>-44.960310</td>\n",
       "      <td>-1.121239e-14</td>\n",
       "    </tr>\n",
       "    <tr>\n",
       "      <th>9</th>\n",
       "      <td>0.155639</td>\n",
       "      <td>0.002036</td>\n",
       "      <td>-45.140519</td>\n",
       "      <td>-3.459765e-15</td>\n",
       "    </tr>\n",
       "    <tr>\n",
       "      <th>10</th>\n",
       "      <td>0.138276</td>\n",
       "      <td>0.001930</td>\n",
       "      <td>-47.278801</td>\n",
       "      <td>-3.387471e-15</td>\n",
       "    </tr>\n",
       "    <tr>\n",
       "      <th>11</th>\n",
       "      <td>0.137801</td>\n",
       "      <td>0.002004</td>\n",
       "      <td>-46.769008</td>\n",
       "      <td>-1.579357e-14</td>\n",
       "    </tr>\n",
       "    <tr>\n",
       "      <th>12</th>\n",
       "      <td>0.142306</td>\n",
       "      <td>0.002070</td>\n",
       "      <td>-46.077512</td>\n",
       "      <td>-1.521264e-14</td>\n",
       "    </tr>\n",
       "    <tr>\n",
       "      <th>13</th>\n",
       "      <td>0.135213</td>\n",
       "      <td>0.002032</td>\n",
       "      <td>-45.554380</td>\n",
       "      <td>-1.007635e-14</td>\n",
       "    </tr>\n",
       "    <tr>\n",
       "      <th>14</th>\n",
       "      <td>0.133484</td>\n",
       "      <td>0.002140</td>\n",
       "      <td>-47.208009</td>\n",
       "      <td>-1.236220e-14</td>\n",
       "    </tr>\n",
       "    <tr>\n",
       "      <th>15</th>\n",
       "      <td>0.138368</td>\n",
       "      <td>0.002035</td>\n",
       "      <td>-44.386838</td>\n",
       "      <td>-1.367726e-14</td>\n",
       "    </tr>\n",
       "    <tr>\n",
       "      <th>16</th>\n",
       "      <td>0.134187</td>\n",
       "      <td>0.001817</td>\n",
       "      <td>-45.999537</td>\n",
       "      <td>-1.338120e-14</td>\n",
       "    </tr>\n",
       "    <tr>\n",
       "      <th>17</th>\n",
       "      <td>0.137798</td>\n",
       "      <td>0.002151</td>\n",
       "      <td>-46.767820</td>\n",
       "      <td>-3.249769e-15</td>\n",
       "    </tr>\n",
       "    <tr>\n",
       "      <th>18</th>\n",
       "      <td>0.137187</td>\n",
       "      <td>0.001898</td>\n",
       "      <td>-45.111378</td>\n",
       "      <td>-3.211901e-15</td>\n",
       "    </tr>\n",
       "    <tr>\n",
       "      <th>19</th>\n",
       "      <td>0.140348</td>\n",
       "      <td>0.002228</td>\n",
       "      <td>-47.405591</td>\n",
       "      <td>-3.793692e-15</td>\n",
       "    </tr>\n",
       "    <tr>\n",
       "      <th>20</th>\n",
       "      <td>0.134434</td>\n",
       "      <td>0.001899</td>\n",
       "      <td>-43.397712</td>\n",
       "      <td>-1.505428e-14</td>\n",
       "    </tr>\n",
       "    <tr>\n",
       "      <th>21</th>\n",
       "      <td>0.137229</td>\n",
       "      <td>0.002007</td>\n",
       "      <td>-46.005055</td>\n",
       "      <td>-1.210746e-14</td>\n",
       "    </tr>\n",
       "    <tr>\n",
       "      <th>22</th>\n",
       "      <td>0.136852</td>\n",
       "      <td>0.002080</td>\n",
       "      <td>-45.363898</td>\n",
       "      <td>-1.424528e-14</td>\n",
       "    </tr>\n",
       "    <tr>\n",
       "      <th>23</th>\n",
       "      <td>0.140457</td>\n",
       "      <td>0.002114</td>\n",
       "      <td>-46.793429</td>\n",
       "      <td>-3.645663e-15</td>\n",
       "    </tr>\n",
       "    <tr>\n",
       "      <th>24</th>\n",
       "      <td>0.135798</td>\n",
       "      <td>0.001944</td>\n",
       "      <td>-46.325968</td>\n",
       "      <td>-3.583697e-15</td>\n",
       "    </tr>\n",
       "    <tr>\n",
       "      <th>25</th>\n",
       "      <td>0.135616</td>\n",
       "      <td>0.002158</td>\n",
       "      <td>-45.719835</td>\n",
       "      <td>-1.529526e-14</td>\n",
       "    </tr>\n",
       "    <tr>\n",
       "      <th>26</th>\n",
       "      <td>0.144747</td>\n",
       "      <td>0.002104</td>\n",
       "      <td>-44.414701</td>\n",
       "      <td>-3.421897e-15</td>\n",
       "    </tr>\n",
       "    <tr>\n",
       "      <th>27</th>\n",
       "      <td>0.141750</td>\n",
       "      <td>0.002311</td>\n",
       "      <td>-46.212782</td>\n",
       "      <td>-1.321940e-14</td>\n",
       "    </tr>\n",
       "    <tr>\n",
       "      <th>28</th>\n",
       "      <td>0.139769</td>\n",
       "      <td>0.001917</td>\n",
       "      <td>-45.682183</td>\n",
       "      <td>-1.285449e-14</td>\n",
       "    </tr>\n",
       "    <tr>\n",
       "      <th>29</th>\n",
       "      <td>0.137614</td>\n",
       "      <td>0.001910</td>\n",
       "      <td>-47.664193</td>\n",
       "      <td>-3.091412e-15</td>\n",
       "    </tr>\n",
       "  </tbody>\n",
       "</table>\n",
       "</div>"
      ],
      "text/plain": [
       "    fit_time  score_time  test_score   train_score\n",
       "0   0.159010    0.002112  -46.925258 -1.517477e-14\n",
       "1   0.154623    0.002473  -46.696217 -3.297965e-15\n",
       "2   0.143690    0.001824  -45.068841 -9.325873e-15\n",
       "3   0.144040    0.001871  -43.577655 -1.263761e-14\n",
       "4   0.133511    0.001887  -48.051693 -8.812933e-15\n",
       "5   0.151293    0.002089  -44.583104 -1.258597e-14\n",
       "6   0.135701    0.001850  -44.422082 -1.440708e-14\n",
       "7   0.155960    0.001922  -45.121698 -3.745497e-15\n",
       "8   0.137098    0.002166  -44.960310 -1.121239e-14\n",
       "9   0.155639    0.002036  -45.140519 -3.459765e-15\n",
       "10  0.138276    0.001930  -47.278801 -3.387471e-15\n",
       "11  0.137801    0.002004  -46.769008 -1.579357e-14\n",
       "12  0.142306    0.002070  -46.077512 -1.521264e-14\n",
       "13  0.135213    0.002032  -45.554380 -1.007635e-14\n",
       "14  0.133484    0.002140  -47.208009 -1.236220e-14\n",
       "15  0.138368    0.002035  -44.386838 -1.367726e-14\n",
       "16  0.134187    0.001817  -45.999537 -1.338120e-14\n",
       "17  0.137798    0.002151  -46.767820 -3.249769e-15\n",
       "18  0.137187    0.001898  -45.111378 -3.211901e-15\n",
       "19  0.140348    0.002228  -47.405591 -3.793692e-15\n",
       "20  0.134434    0.001899  -43.397712 -1.505428e-14\n",
       "21  0.137229    0.002007  -46.005055 -1.210746e-14\n",
       "22  0.136852    0.002080  -45.363898 -1.424528e-14\n",
       "23  0.140457    0.002114  -46.793429 -3.645663e-15\n",
       "24  0.135798    0.001944  -46.325968 -3.583697e-15\n",
       "25  0.135616    0.002158  -45.719835 -1.529526e-14\n",
       "26  0.144747    0.002104  -44.414701 -3.421897e-15\n",
       "27  0.141750    0.002311  -46.212782 -1.321940e-14\n",
       "28  0.139769    0.001917  -45.682183 -1.285449e-14\n",
       "29  0.137614    0.001910  -47.664193 -3.091412e-15"
      ]
     },
     "execution_count": 23,
     "metadata": {},
     "output_type": "execute_result"
    }
   ],
   "source": [
    "cv_results"
   ]
  },
  {
   "cell_type": "markdown",
   "id": "73165e04-d5d0-4383-a987-821315cbd985",
   "metadata": {},
   "source": [
    "we used the negative mean abs error (higher is better) $\\rightarrow$ let's transform it into a positive mean abs error (smaller is better) \n",
    "- this is the same as we did in the previous segment on overfitting and underfitting\n"
   ]
  },
  {
   "cell_type": "code",
   "execution_count": 24,
   "id": "3770a673-e898-483f-848a-d7e1086f522c",
   "metadata": {},
   "outputs": [],
   "source": [
    "\n",
    "scores = pd.DataFrame()\n",
    "scores[[\"train error\", \"test error\"]] = -cv_results[\n",
    "    [\"train_score\", \"test_score\"]\n",
    "]"
   ]
  },
  {
   "cell_type": "code",
   "execution_count": 25,
   "id": "6a74597a-1529-4687-ae57-7b321167b0d5",
   "metadata": {},
   "outputs": [
    {
     "data": {
      "image/png": "[encoded data removed]",
      "text/plain": [
       "<Figure size 640x480 with 1 Axes>"
      ]
     },
     "metadata": {},
     "output_type": "display_data"
    }
   ],
   "source": [
    "import matplotlib.pyplot as plt \n",
    "scores.plot.hist(bins=50, edgecolor=\"black\")\n",
    "plt.xlabel(\"Mean absolute error (k$)\")\n",
    "_ = plt.title(\"Train and test errors distribution via cross-validation\")"
   ]
  },
  {
   "cell_type": "markdown",
   "id": "44e9842c-93b9-40a4-bf9a-cb31be196a66",
   "metadata": {},
   "source": [
    "What do we see here?  <mark> Call-out? </mark>\n",
    "- train error is very small, actually 0. thus, the model is certainly not underfitting\n",
    "- test error is much larger -- indicates that we are overfitting.\n",
    "- **intuition**: the model is memorized too many observations from the training set. because there is some extent of noise in all observations, this means that the memorized observations do not replicate in the test dataset, leading to high test error."
   ]
  },
  {
   "cell_type": "markdown",
   "id": "8004529e-3611-4450-9a83-9773d3c31db6",
   "metadata": {},
   "source": [
    "#### Validation curve\n",
    "\n",
    "hyperparameters: \n",
    "- parameters that are not directly learned in the training process, but are chosen by us and can impact the performance of the model\n",
    "- for instance: the number of neighbors in a k-nearest neighbors model\n",
    "- the degree of a polynomial\n",
    "\n",
    "\n",
    "Often, choosing the right hyperparameters is crucial to move a model towards a better test set performance (be it moving away from underfitting or from overfitting)\n",
    "\n",
    "We can find how the training and test erorrs behave as a function of the hyperparameters with the **validation curve**. \n",
    "\n",
    "Let's apply to curve to our example from above: we can use the `max_depth` hyperparameter and see how the trade-off between over- and underfitting behaves.\n"
   ]
  },
  {
   "cell_type": "code",
   "execution_count": 28,
   "id": "5d77e850-6c42-4e34-805c-981891564569",
   "metadata": {},
   "outputs": [
    {
     "data": {
      "image/png": "[encoded data removed]",
      "text/plain": [
       "<Figure size 640x480 with 1 Axes>"
      ]
     },
     "metadata": {},
     "output_type": "display_data"
    }
   ],
   "source": [
    "import numpy as np \n",
    "from sklearn.model_selection import ValidationCurveDisplay\n",
    "\n",
    "max_depth = np.array([1, 5, 10, 15, 20, 25]) # this defines the depth of a tree\n",
    "\n",
    "disp = ValidationCurveDisplay.from_estimator(\n",
    "    regressor,\n",
    "    data,\n",
    "    target, \n",
    "    param_name=\"max_depth\", # I guess this needs to be a parameter of the respective regressor model?\n",
    "    param_range=max_depth, \n",
    "    cv=cv, # we re-use the shuffle split from above\n",
    "    scoring=\"neg_mean_absolute_error\",\n",
    "    negate_score=True, ## this again re-converts the neg_mean_absolute_error to the mean_absolute_error\n",
    "    std_display_style=\"errorbar\", # show the variability of the mean absolute error\n",
    "    n_jobs=2,\n",
    ")\n",
    "\n",
    "_ = disp.ax_.set(\n",
    "    xlabel=\"Maximum depth of decision tree\",\n",
    "    ylabel=\"Mean absolute error (k$)\",\n",
    "    title=\"Validate curve for decision tree\",\n",
    ")\n"
   ]
  },
  {
   "cell_type": "markdown",
   "id": "8fce84cd-4baa-4b6c-bfdf-c90df1915ed9",
   "metadata": {},
   "source": [
    "<mark> explain the regression tree? what is the depth? </mark>\n",
    "- simply put: the deeper, the more flexible the tree because it uses more features for explaining the outcome\n"
   ]
  },
  {
   "cell_type": "markdown",
   "id": "59b3aa58-3bf5-463d-a453-eb526a9a2c99",
   "metadata": {},
   "source": [
    "There are 3 areas in the validation curve\n",
    "\n",
    "- first, we'd like to be in a sweet spot between neither over- nor underfitting. (mention bias-variance trade-off??)\n",
    "- this is equivalent to the lowest possible test error, in this case with a depth of around 10. here we say \"the model generalizes\".\n",
    "- the other regions are worse because the test error is larger\n",
    "   - for `max_depth` < 10, we underfit: both train and test error are large\n",
    "   - for `max_depth` > 10, we overfit: training error becomes very small, but test error increases. \"memorizing\" of observations and too much associated noise.\n",
    "\n",
    "<mark> in how much detail should I explain this? use it as exercise? </mark>\n",
    "\n",
    "\n",
    "**Notes**\n",
    "- we should not only look at the mean errors, but also at the standard deviation of the errors\n",
    "   - why? -- for two types of hyperparameters, we could have the same mean errors, but a much larger variance. in this case, we would like to go for the model with lower variance. this is actually displayed with the error bars in the figure above (with the `std_display_style` attribute. https://scikit-learn.org/stable/modules/generated/sklearn.model_selection.ValidationCurveDisplay.html)\n",
    "   - in our case, the variance seems to be fairly stable across hyperparameter values\n",
    "- we see also that the train and test error slightly diverge for `max_depth` = 10 already. Thus, the model might be overfitting. But this is the best we can do with changing the hyperparameter. \n",
    "\n",
    "#### Summary\n",
    "- how to identify whether a model is generalizing, overfitting or underfitting\n",
    "- how to check the influence of a hyperparameter on the underfit/overfit tradeoff\n",
    "\n"
   ]
  },
  {
   "cell_type": "markdown",
   "id": "3e2c1a70-a782-4d75-95b5-3591df590271",
   "metadata": {},
   "source": [
    "### Effect of the sample size in cross-validation\n",
    "\n",
    "- before: how under-/overfitting and generalizing are impacted by hyperparameter values\n",
    "- now: how they are impacted by the size of the data we have available\n"
   ]
  },
  {
   "cell_type": "code",
   "execution_count": 27,
   "id": "50eccecf-f4ed-4c77-b687-18e322ea23c5",
   "metadata": {},
   "outputs": [],
   "source": [
    "# already done above\n",
    "# housing = fetch_california_housing(as_frame=True)\n",
    "# data, target = housing.data, housing.target\n",
    "# target *= 100  \n",
    "\n",
    "# we already have the DecisionTreeRegressor"
   ]
  },
  {
   "cell_type": "markdown",
   "id": "85895943-f1a2-42dd-9de1-c16b924d7c34",
   "metadata": {},
   "source": [
    "#### Learning curve\n",
    "\n",
    "- we can produce similar figures with test and train errors by varying the size of the dataset\n",
    "- this called the **learning curve**\n",
    "- it is informative about whether adding more training data improves the model's generalization performance"
   ]
  },
  {
   "cell_type": "code",
   "execution_count": 28,
   "id": "5df4dd3c-b21e-48ae-85c9-9aaf2c27ab80",
   "metadata": {},
   "outputs": [
    {
     "data": {
      "text/plain": [
       "array([0.1  , 0.325, 0.55 , 0.775, 1.   ])"
      ]
     },
     "execution_count": 28,
     "metadata": {},
     "output_type": "execute_result"
    }
   ],
   "source": [
    "train_sizes = np.linspace(0.1, 1.0, num=5, endpoint=True) # we split the values from 0.1 to 1 into 5 equally-sized parts\n",
    "# endpoint=True includes also 1.0.\n",
    "train_sizes"
   ]
  },
  {
   "cell_type": "code",
   "execution_count": 29,
   "id": "8bdd0d18-557b-4e0d-9c39-967556c36db5",
   "metadata": {},
   "outputs": [],
   "source": [
    "# again use a ShuffleSplit for cross-validation\n",
    "cv = ShuffleSplit(n_splits=30, test_size=0.2)"
   ]
  },
  {
   "cell_type": "code",
   "execution_count": 30,
   "id": "7d61fa4f-8435-4b39-a996-b39e384dedf4",
   "metadata": {},
   "outputs": [
    {
     "data": {
      "image/png": "[encoded data removed]",
      "text/plain": [
       "<Figure size 640x480 with 1 Axes>"
      ]
     },
     "metadata": {},
     "output_type": "display_data"
    }
   ],
   "source": [
    "# let's do the experiment\n",
    "from sklearn.model_selection import LearningCurveDisplay\n",
    "\n",
    "display = LearningCurveDisplay.from_estimator(\n",
    "    regressor,\n",
    "    data,\n",
    "    target,\n",
    "    train_sizes=train_sizes,\n",
    "    cv=cv,\n",
    "    # score_type=\"both\", # score both train and test errors -- this is the default, and not shown in the previous segment\n",
    "    # to make it consistent, ignore it here\n",
    "    scoring=\"neg_mean_absolute_error\",\n",
    "    negate_score=True,\n",
    "    score_name=\"Mean absolute error (k$)\",\n",
    "    std_display_style=\"errorbar\",\n",
    "    n_jobs=2,\n",
    ")\n",
    "_ = display.ax_.set(xscale=\"log\", title=\"Learning curve for decision tree\")"
   ]
  },
  {
   "cell_type": "markdown",
   "id": "10844dbc-139d-47d5-9102-f77ab433d863",
   "metadata": {},
   "source": [
    "What do we see?\n",
    "- train error is 0 -- overfitting\n",
    "- the variability of the error declines as we increase the size of the data set -- noise has less impact on the error\n",
    "- test error declines as we increase sample size\n",
    "- since it does not seem to \"flatten out\", we it may be useful to increase the size of the dataset further to reduce the test error\n",
    "- in case we reached the \"flat\" part of the learning curve, then we may have reached the Bayes error rate (the irreducible error, ie  $Var(\\varepsilon)$) with the available model. To further reduce the test error, we'd have to try ot a more complex model.\n",
    "\n",
    "#### Summary\n",
    "- we can use the learning curve to check whether it's worth adding more data, or whether we may need to try out a more complex model"
   ]
  },
  {
   "cell_type": "markdown",
   "id": "b172e1ed-e383-4305-8b60-87d475d2654c",
   "metadata": {},
   "source": [
    "### Exercise M2.01"
   ]
  },
  {
   "cell_type": "markdown",
   "id": "0f4ce59d-0e76-4c20-a330-988a53ae2aff",
   "metadata": {},
   "source": [
    "**For the questions, see the exercise document**"
   ]
  },
  {
   "cell_type": "markdown",
   "id": "d8ef0968-9f48-4898-957f-f0ca5f6dd55b",
   "metadata": {},
   "source": [
    "**<mark> explain what the SVM does? </mark>**\n",
    "\n",
    "for classification problems:\n",
    "- in a $p$-dimensional space, tries to find a boundary in $p-1$-dimensional space to separate the data points\n",
    "- give example with 2-dimensional space?\n",
    "- it seeks to maximize the distance from the closest data points on either side of the boundary\n",
    "   - intuition: this will also lead to low generalization error (since \"new\" data are likely to fall into the same area as the \"existing\" data)\n",
    "- see wikipedia: https://en.wikipedia.org/wiki/Support_vector_machine -- the $\\gamma$ parameter is in the radial basis function\n",
    "\n",
    "what is the $\\gamma$ parameter? it makes the classification boundary more non-linear. "
   ]
  },
  {
   "cell_type": "markdown",
   "id": "b782fe7b-d925-4410-a2d7-a2300aef3032",
   "metadata": {},
   "source": [
    "#### Solution"
   ]
  },
  {
   "cell_type": "code",
   "execution_count": 31,
   "id": "f4dd62ee-4036-40df-b3ee-42733d474a19",
   "metadata": {},
   "outputs": [],
   "source": [
    "blood_transfusion = pd.read_csv(\"../datasets/blood_transfusion.csv\")\n",
    "data = blood_transfusion.drop(columns=\"Class\")\n",
    "target = blood_transfusion[\"Class\"]"
   ]
  },
  {
   "cell_type": "code",
   "execution_count": 32,
   "id": "479c2580-4dc8-49d6-8829-ef155a7f8ee7",
   "metadata": {},
   "outputs": [
    {
     "data": {
      "text/html": [
       "<div>\n",
       "<style scoped>\n",
       "    .dataframe tbody tr th:only-of-type {\n",
       "        vertical-align: middle;\n",
       "    }\n",
       "\n",
       "    .dataframe tbody tr th {\n",
       "        vertical-align: top;\n",
       "    }\n",
       "\n",
       "    .dataframe thead th {\n",
       "        text-align: right;\n",
       "    }\n",
       "</style>\n",
       "<table border=\"1\" class=\"dataframe\">\n",
       "  <thead>\n",
       "    <tr style=\"text-align: right;\">\n",
       "      <th></th>\n",
       "      <th>Recency</th>\n",
       "      <th>Frequency</th>\n",
       "      <th>Monetary</th>\n",
       "      <th>Time</th>\n",
       "    </tr>\n",
       "  </thead>\n",
       "  <tbody>\n",
       "    <tr>\n",
       "      <th>0</th>\n",
       "      <td>2</td>\n",
       "      <td>50</td>\n",
       "      <td>12500</td>\n",
       "      <td>98</td>\n",
       "    </tr>\n",
       "    <tr>\n",
       "      <th>1</th>\n",
       "      <td>0</td>\n",
       "      <td>13</td>\n",
       "      <td>3250</td>\n",
       "      <td>28</td>\n",
       "    </tr>\n",
       "    <tr>\n",
       "      <th>2</th>\n",
       "      <td>1</td>\n",
       "      <td>16</td>\n",
       "      <td>4000</td>\n",
       "      <td>35</td>\n",
       "    </tr>\n",
       "    <tr>\n",
       "      <th>3</th>\n",
       "      <td>2</td>\n",
       "      <td>20</td>\n",
       "      <td>5000</td>\n",
       "      <td>45</td>\n",
       "    </tr>\n",
       "    <tr>\n",
       "      <th>4</th>\n",
       "      <td>1</td>\n",
       "      <td>24</td>\n",
       "      <td>6000</td>\n",
       "      <td>77</td>\n",
       "    </tr>\n",
       "  </tbody>\n",
       "</table>\n",
       "</div>"
      ],
      "text/plain": [
       "   Recency  Frequency  Monetary  Time\n",
       "0        2         50     12500    98\n",
       "1        0         13      3250    28\n",
       "2        1         16      4000    35\n",
       "3        2         20      5000    45\n",
       "4        1         24      6000    77"
      ]
     },
     "execution_count": 32,
     "metadata": {},
     "output_type": "execute_result"
    }
   ],
   "source": [
    "data.head()"
   ]
  },
  {
   "cell_type": "markdown",
   "id": "2e928ddb-b7ce-461b-83f2-e9c333a1846a",
   "metadata": {},
   "source": [
    "**(1) Create a predictive pipeline**"
   ]
  },
  {
   "cell_type": "code",
   "execution_count": 33,
   "id": "4dc9ddc9-5c00-4bcb-bc8d-3a3be3f26a6a",
   "metadata": {},
   "outputs": [],
   "source": [
    "from sklearn.pipeline import make_pipeline \n",
    "from sklearn.preprocessing import StandardScaler\n",
    "from sklearn.svm import SVC\n",
    "\n",
    "model = make_pipeline(\n",
    "    StandardScaler(), SVC(kernel=\"rbf\")\n",
    ")\n"
   ]
  },
  {
   "cell_type": "code",
   "execution_count": 34,
   "id": "7bd47039-76ee-4092-96d5-9650b0990693",
   "metadata": {},
   "outputs": [
    {
     "data": {
      "text/plain": [
       "dict_keys(['memory', 'steps', 'verbose', 'standardscaler', 'svc', 'standardscaler__copy', 'standardscaler__with_mean', 'standardscaler__with_std', 'svc__C', 'svc__break_ties', 'svc__cache_size', 'svc__class_weight', 'svc__coef0', 'svc__decision_function_shape', 'svc__degree', 'svc__gamma', 'svc__kernel', 'svc__max_iter', 'svc__probability', 'svc__random_state', 'svc__shrinking', 'svc__tol', 'svc__verbose'])"
      ]
     },
     "execution_count": 34,
     "metadata": {},
     "output_type": "execute_result"
    }
   ],
   "source": [
    "model.get_params().keys() # this is how we can see the name of the parameters, particularly for the validation curves below"
   ]
  },
  {
   "cell_type": "markdown",
   "id": "c459a9ea-013c-4a0d-9385-5ea0b989b619",
   "metadata": {},
   "source": [
    "let's use the `ShuffleSplit` scheme for cross validation"
   ]
  },
  {
   "cell_type": "code",
   "execution_count": null,
   "id": "0b639c50-6644-410e-b239-652a5c674a02",
   "metadata": {},
   "outputs": [],
   "source": []
  },
  {
   "cell_type": "markdown",
   "id": "98276ca0-cfe7-41d1-a003-e2c1bedc99f5",
   "metadata": {},
   "source": [
    "**(2) Evaluate how well the model generalizes.**"
   ]
  },
  {
   "cell_type": "code",
   "execution_count": 35,
   "id": "3fc634cc-1dbf-4fe5-a04f-1337a0cd925a",
   "metadata": {},
   "outputs": [],
   "source": [
    "cv = ShuffleSplit(random_state=0)\n",
    "cv_results = cross_validate(model, data, target, cv=cv, n_jobs=2)\n",
    "cv_results = pd.DataFrame(cv_results)"
   ]
  },
  {
   "cell_type": "code",
   "execution_count": 36,
   "id": "d9bb14f5-0cae-4ad1-b661-38e4b58508ae",
   "metadata": {},
   "outputs": [
    {
     "data": {
      "text/plain": [
       "(10, 3)"
      ]
     },
     "execution_count": 36,
     "metadata": {},
     "output_type": "execute_result"
    }
   ],
   "source": [
    "cv_results.shape"
   ]
  },
  {
   "cell_type": "code",
   "execution_count": 37,
   "id": "4732c95f-e046-42f9-bbad-80da1edb22cf",
   "metadata": {},
   "outputs": [
    {
     "name": "stdout",
     "output_type": "stream",
     "text": [
      "Accuracy score of our model:\n",
      "0.765 ± 0.043\n"
     ]
    }
   ],
   "source": [
    "print(\n",
    "    \"Accuracy score of our model:\\n\"\n",
    "    f\"{cv_results['test_score'].mean():.3f} ± \"\n",
    "    f\"{cv_results['test_score'].std():.3f}\"\n",
    ")"
   ]
  },
  {
   "cell_type": "markdown",
   "id": "dfdf065e-bf12-472f-8d73-cfde325abe33",
   "metadata": {},
   "source": [
    "\n",
    "**(3) Evaluate the effect of the parameter gamma by using `sklearn.model_selection.ValidationCurveDisplay`**\n",
    "\n",
    "Try out different values for $\\gamma$\n"
   ]
  },
  {
   "cell_type": "code",
   "execution_count": 38,
   "id": "a3a7b8dd-2f7e-4b0e-a4ab-ba68b515a17d",
   "metadata": {},
   "outputs": [
    {
     "data": {
      "image/png": "[encoded data removed]",
      "text/plain": [
       "<Figure size 640x480 with 1 Axes>"
      ]
     },
     "metadata": {},
     "output_type": "display_data"
    }
   ],
   "source": [
    "\n",
    "gamma_values = np.logspace(-3, 2, num=30) \n",
    "\n",
    "disp = ValidationCurveDisplay.from_estimator(\n",
    "    model,\n",
    "    data,\n",
    "    target, \n",
    "    param_name=\"svc__gamma\", # we need svc__gamma instead of just gamma because we are manipulating a `Pipeline` (?)\n",
    "    param_range=gamma_values, \n",
    "    cv=cv, # we re-use the shuffle split from above\n",
    "    scoring=\"accuracy\",\n",
    "    score_name=\"Accuracy\",\n",
    "    std_display_style=\"errorbar\", # show the variability of the mean absolute error\n",
    "    errorbar_kw={\"alpha\": 0.7},  # transparency for better visualization\n",
    "    n_jobs=2,\n",
    ")\n",
    "\n",
    "_ = disp.ax_.set(\n",
    "    xlabel=\"Value of hyperparameter $\\gamma$\",\n",
    "    ylabel=\"Accuracy\",\n",
    "    title=\"Validate curve of support vector machine\",\n",
    ")"
   ]
  },
  {
   "cell_type": "markdown",
   "id": "6c3b08ba-19dc-4fe3-955a-929932b0565c",
   "metadata": {},
   "source": [
    "What do we see?\n",
    "- overfitting starting around $\\gamma$ = 1? (remember higher accuracy is better)\n"
   ]
  },
  {
   "cell_type": "markdown",
   "id": "8a1a677f-fc1c-48f7-939c-428b20efada9",
   "metadata": {},
   "source": [
    "**(4) Compute the learning curve (using `sklearn.model_selection.LearningCurveDisplay`) by computing the train and test scores for different training dataset size.**"
   ]
  },
  {
   "cell_type": "code",
   "execution_count": 39,
   "id": "72ab4061-6040-4d84-b02f-440651f35180",
   "metadata": {},
   "outputs": [],
   "source": [
    "train_sizes = np.linspace(0.1, 1.0, num=10, endpoint=True) "
   ]
  },
  {
   "cell_type": "code",
   "execution_count": 40,
   "id": "1a08cddc-0828-46d4-a99d-e54512ed8092",
   "metadata": {},
   "outputs": [
    {
     "data": {
      "image/png": "[encoded data removed]",
      "text/plain": [
       "<Figure size 640x480 with 1 Axes>"
      ]
     },
     "metadata": {},
     "output_type": "display_data"
    }
   ],
   "source": [
    "display = LearningCurveDisplay.from_estimator(\n",
    "    model,\n",
    "    data,\n",
    "    target,\n",
    "    train_sizes=train_sizes,\n",
    "    cv=cv,\n",
    "    scoring=\"accuracy\",\n",
    "    score_name=\"Accuracy\",\n",
    "    std_display_style=\"errorbar\",\n",
    "    errorbar_kw={\"alpha\": 0.7},  # transparency for better visualization\n",
    "    n_jobs=2,\n",
    ")\n",
    "_ = disp.ax_.set(title=\"Learning curve for support vector machine\")\n"
   ]
  },
  {
   "cell_type": "markdown",
   "id": "e3824b18-116c-42d5-a230-87f8e8901981",
   "metadata": {},
   "source": [
    "Observations\n",
    "- adding more samples does not improve the accuracy much -- it's always around 0.77\n",
    "- note that this is about the fraction of records that are in class `\"not donated\"`. Therefore, even without seeing any data, the we could have a similar performance\n",
    "\n",
    "Interpretation\n",
    "- this suggests that this model here is probably too simple\n",
    "- features themselves are not informative, for any model\n",
    "- the other default hyperparameter values of `SVC` are not good\n",
    "- the model itself may be wrong"
   ]
  },
  {
   "cell_type": "code",
   "execution_count": null,
   "id": "e90517fc-83c1-4ed4-8f7e-1e8d4b3eba30",
   "metadata": {},
   "outputs": [],
   "source": []
  },
  {
   "cell_type": "markdown",
   "id": "bb5adc39-0e69-46cd-bf6b-d8412fe6dcea",
   "metadata": {},
   "source": [
    "### Quiz M2.02\n",
    "\n",
    "**see the exercise document**\n",
    "\n",
    "\"Quiz: over- and underfitting and learning curves (5 minutes, in pairs; if time-permitting)\""
   ]
  },
  {
   "cell_type": "markdown",
   "id": "804ba37a-33b7-4058-9411-11afe610fcdb",
   "metadata": {},
   "source": [
    "**Solutions**\n",
    "1.b, 2.a, 3.d, 4.b, 5.c/d, 6.b"
   ]
  },
  {
   "cell_type": "code",
   "execution_count": null,
   "id": "cf50baa4-0653-490d-9913-fa7187967e9a",
   "metadata": {},
   "outputs": [],
   "source": []
  },
  {
   "cell_type": "code",
   "execution_count": null,
   "id": "c4b0875d-45f7-4ebe-b6da-d3b694c0f22d",
   "metadata": {},
   "outputs": [],
   "source": []
  }
 ],
 "metadata": {
  "kernelspec": {
   "display_name": "Python 3 (ipykernel)",
   "language": "python",
   "name": "python3"
  },
  "language_info": {
   "codemirror_mode": {
    "name": "ipython",
    "version": 3
   },
   "file_extension": ".py",
   "mimetype": "text/x-python",
   "name": "python",
   "nbconvert_exporter": "python",
   "pygments_lexer": "ipython3",
   "version": "3.11.6"
  }
 },
 "nbformat": 4,
 "nbformat_minor": 5
}
